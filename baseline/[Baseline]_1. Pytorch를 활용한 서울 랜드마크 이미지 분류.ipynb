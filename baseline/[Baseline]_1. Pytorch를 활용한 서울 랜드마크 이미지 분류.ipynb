{
 "cells": [
  {
   "cell_type": "markdown",
   "id": "0b32eba4-5d60-4912-9a57-290744c6b8c5",
   "metadata": {},
   "source": [
    "# 데이콘 Basic Summer\n",
    "## 서울 랜드마크 이미지 분류 경진대회\n",
    "\n",
    "## 첫번째 Baseline\n",
    "\n",
    "안녕하세요 데이커 여러분!  \n",
    "데이콘 Basic Summer에 오신 것을 환영합니다.\n",
    "\n",
    "올해도 무더운 여름이 찾아왔습니다. \n",
    "여름 방학이라고 하면 Shopping에 이어, Vacation🧳을 빼놓을 순 없겠죠!\n",
    "\n",
    "<img src='https://user-images.githubusercontent.com/101694546/182985550-3b3b8f81-c01c-4ce1-bddb-d2b62e4105b3.png' align=center>\n",
    "\n",
    "각종 SNS에 쏟아지는 여름철 휴가 여행 사진들을 보면    \n",
    "여행 욕구가 마구마구 샘솟는데요!   \n",
    "우리는 다양한 휴가지들 속에서 최고의 여름날의 추억🌅을 쌓기 위해   \n",
    "휴가지의 사진들을 참고하여 여행 장소를 고르곤 합니다.🌉   \n",
    "\n",
    "그렇다면 휴가지 랜드마크의 이미지와 이름 사이에는 어떤 관계가 있을까요?    \n",
    "랜드마크의 이미지만으로 랜드마크의 이름을 구별할 수 있을까요?\n",
    "\n",
    "------\n",
    "\n",
    "데이콘과 함께, 초보부터 고수까지 모두가 참여하는 데이콘 Basic Summer   \n",
    "**랜드마크 이미지 분류 대회**를 소개합니다.\n",
    "\n",
    "이번 대회는 랜드마크의 이미지 데이터를 통해 라벨을 분류하는 대회입니다.\n",
    "\n",
    "이미지를 이용하여 랜드마크의 라벨을 분류하는 간단한 대회 처럼 보이지만,   \n",
    "컴퓨터 비전을 처음 접하는 분들에게는 어디부터 시작해야 하는지 막막하실 겁니다.\n",
    "\n",
    "간단한 대회 처럼 보이지만, 데이터 분석을 처음 접하는 분들에게는 어디부터 시작해야 하는지 막막하실 겁니다.\n",
    "\n",
    "데이콘이 준비한 컴퓨터 비전 베이스라인을 통해 데이터 분석에 입문해보세요!🥇\n",
    "\n",
    "<p style='text-align: right;'> August, 2022 | All rights reserved by Dacon</p>"
   ]
  },
  {
   "cell_type": "markdown",
   "id": "980023c8-e6ab-457a-9757-1866595a916d",
   "metadata": {},
   "source": [
    "# I. 데이터 살펴보기\n",
    "\n",
    "데이터 분석을 하기 위해 가장 먼저 해야할 일이 무엇일까요?\n",
    "\n",
    "바로 데이터를 살펴보는 일입니다.  \n",
    "주어진 데이터를 살펴보며 데이터의 모양과 대략적인 내용을 파악하고, 무슨 분석이 가능한지 확인하여 분석의 방향을 잡는 과정이 필요합니다.\n",
    "\n",
    "대회 페이지의 [데이터] 탭에서 압축 파일을 다운받아 압축을 풀어주었다면 현재 폴더 구조는 아래와 같을 것입니다.\n",
    "\n",
    "(현재 위치)  \n",
    "- baseline.ipynb\n",
    "- dataset (폴더)\n",
    "  - train.csv\n",
    "  - test.csv\n",
    "  - sample_submission.csv\n",
    "  - train (폴더)\n",
    "    - 001.PNG\n",
    "    - 002.PNG\n",
    "    - ...\n",
    "  - test (폴더)\n",
    "    - 001.PNG\n",
    "    - 002.PNG\n",
    "    - ...\n",
    "    \n",
    "이번 대회의 데이터의 종류는 총 5가지이며 train, test 이미지 파일과 3개의 csv 파일 입니다.\n",
    "\n",
    "1. train 이미지 (001.PNG ~ 723.PNG) : 데이터 분석 모델을 학습(train)하기 위해 사용하는 이미지 데이터\n",
    "2. test 이미지 (001.PNG ~ 199.PNG) : 데이터 분석 모델을 통해 정답을 예측하기 위해 사용하는 이미지 데이터\n",
    "3. train.csv : 이미지의 파임이름별로 정답라벨이 들어있는 데이터\n",
    "4. test.csv : 이미지의 파일이름만 들어있는 데이터\n",
    "5. sample_submission.csv : 예측한 정답 값을 기록하여 제출하기 위한 샘플 정답 파일"
   ]
  },
  {
   "cell_type": "markdown",
   "id": "2f7946bf-6524-4666-940d-6e78e2fbf887",
   "metadata": {},
   "source": [
    "## 1. 데이터 준비\n",
    "\n",
    "### 1.1. csv 데이터\n",
    "먼저 분석하려는 데이터를 작업장으로 가져오는 작업이 필요합니다.\n",
    "\n",
    "이를 위해서 파이썬 라이브러리 중 하나인 Pandas를 이용합니다.\n",
    "\n",
    "pandas 라이브러리는 엑셀과 같은 행과 열로 이루어진 테이블(table) 형식의 데이터를 편하게 다루도록 해주는 라이브러리입니다."
   ]
  },
  {
   "cell_type": "code",
   "execution_count": 1,
   "id": "9191fc2b-bced-4db0-8980-f073bef18607",
   "metadata": {},
   "outputs": [
    {
     "data": {
      "text/html": [
       "<div>\n",
       "<style scoped>\n",
       "    .dataframe tbody tr th:only-of-type {\n",
       "        vertical-align: middle;\n",
       "    }\n",
       "\n",
       "    .dataframe tbody tr th {\n",
       "        vertical-align: top;\n",
       "    }\n",
       "\n",
       "    .dataframe thead th {\n",
       "        text-align: right;\n",
       "    }\n",
       "</style>\n",
       "<table border=\"1\" class=\"dataframe\">\n",
       "  <thead>\n",
       "    <tr style=\"text-align: right;\">\n",
       "      <th></th>\n",
       "      <th>file_name</th>\n",
       "      <th>label</th>\n",
       "    </tr>\n",
       "  </thead>\n",
       "  <tbody>\n",
       "    <tr>\n",
       "      <th>0</th>\n",
       "      <td>001.PNG</td>\n",
       "      <td>9</td>\n",
       "    </tr>\n",
       "    <tr>\n",
       "      <th>1</th>\n",
       "      <td>002.PNG</td>\n",
       "      <td>4</td>\n",
       "    </tr>\n",
       "    <tr>\n",
       "      <th>2</th>\n",
       "      <td>003.PNG</td>\n",
       "      <td>1</td>\n",
       "    </tr>\n",
       "    <tr>\n",
       "      <th>3</th>\n",
       "      <td>004.PNG</td>\n",
       "      <td>1</td>\n",
       "    </tr>\n",
       "    <tr>\n",
       "      <th>4</th>\n",
       "      <td>005.PNG</td>\n",
       "      <td>6</td>\n",
       "    </tr>\n",
       "  </tbody>\n",
       "</table>\n",
       "</div>"
      ],
      "text/plain": [
       "  file_name  label\n",
       "0   001.PNG      9\n",
       "1   002.PNG      4\n",
       "2   003.PNG      1\n",
       "3   004.PNG      1\n",
       "4   005.PNG      6"
      ]
     },
     "execution_count": 1,
     "metadata": {},
     "output_type": "execute_result"
    }
   ],
   "source": [
    "import pandas as pd\n",
    "label_df = pd.read_csv('data/save_data/train.csv')\n",
    "label_df.head()"
   ]
  },
  {
   "cell_type": "markdown",
   "id": "627218c4-e65d-4aac-b28a-6cfb1b869be4",
   "metadata": {},
   "source": [
    "### 1.2. 이미지 데이터\n",
    "\n",
    "또한 데이터 이미지의 local adress와 label 값을 list에 저장해주도록 하겠습니다."
   ]
  },
  {
   "cell_type": "code",
   "execution_count": 5,
   "id": "882e6667-dfa9-4ca0-9d9d-70218a53fffb",
   "metadata": {},
   "outputs": [],
   "source": [
    "import os\n",
    "from glob import glob\n",
    "\n",
    "def get_train_data(data_dir):\n",
    "    img_path_list = []\n",
    "    label_list = []\n",
    "    \n",
    "    # get image path\n",
    "    img_path_list.extend(glob(os.path.join(data_dir, '*.PNG')))\n",
    "    img_path_list.sort(key=lambda x:int(x.split('/')[-1].split('.')[0]))\n",
    "        \n",
    "    # get label\n",
    "    label_list.extend(label_df['label'])\n",
    "                \n",
    "    return img_path_list, label_list\n",
    "\n",
    "def get_test_data(data_dir):\n",
    "    img_path_list = []\n",
    "    \n",
    "    # get image path\n",
    "    img_path_list.extend(glob(os.path.join(data_dir, '*.PNG')))\n",
    "    img_path_list.sort(key=lambda x:int(x.split('/')[-1].split('.')[0]))\n",
    "    #print(img_path_list)\n",
    "    \n",
    "    return img_path_list"
   ]
  },
  {
   "cell_type": "markdown",
   "id": "7437ba7d-7c71-4543-a446-c68a85b963a3",
   "metadata": {},
   "source": [
    "## 2. 데이터 확인\n",
    "\n",
    "### 2.1. csv 데이터\n",
    "\n",
    "이제 데이터가 어떻게 생겼는지 살펴봅시다.\n",
    "\n",
    "데이터를 살펴 볼 때에는 pandas의 **info()** 메소드를 활용하여 데이터를 살펴보는 경우가 많습니다.\n",
    "\n",
    "이는 데이터의 특성을 알아보기 위함입니다."
   ]
  },
  {
   "cell_type": "code",
   "execution_count": 2,
   "id": "02da7d67-5aa4-43ec-9da1-0a13a28bc55c",
   "metadata": {},
   "outputs": [
    {
     "name": "stdout",
     "output_type": "stream",
     "text": [
      "<class 'pandas.core.frame.DataFrame'>\n",
      "RangeIndex: 723 entries, 0 to 722\n",
      "Data columns (total 2 columns):\n",
      " #   Column     Non-Null Count  Dtype \n",
      "---  ------     --------------  ----- \n",
      " 0   file_name  723 non-null    object\n",
      " 1   label      723 non-null    int64 \n",
      "dtypes: int64(1), object(1)\n",
      "memory usage: 11.4+ KB\n"
     ]
    }
   ],
   "source": [
    "label_df.info()"
   ]
  },
  {
   "cell_type": "markdown",
   "id": "0b46daac-998a-4b29-98e9-f7b0bf4729dd",
   "metadata": {},
   "source": [
    "총 723의 행과 2개의 열을 가지고 있습니다.\n",
    "\n",
    "file_name은 object 타입으로,\n",
    "\n",
    "label이 int 타입으로 되어있는 것을 확인할 수 있습니다."
   ]
  },
  {
   "cell_type": "markdown",
   "id": "5966c912-a454-416a-af0e-0afb3fe00e30",
   "metadata": {},
   "source": [
    "### 2.2. 이미지 데이터"
   ]
  },
  {
   "cell_type": "code",
   "execution_count": 6,
   "id": "e30650f1-9f24-4c89-84f5-2a5cd6b5d4d3",
   "metadata": {},
   "outputs": [],
   "source": [
    "all_img_path, all_label = get_train_data('data/save_data/train')\n",
    "test_img_path = get_test_data('data/save_data/test')"
   ]
  },
  {
   "cell_type": "markdown",
   "id": "9102e803-5200-4102-9232-1f3012f65527",
   "metadata": {},
   "source": [
    "label값 상위 5개를 확인해봅시다."
   ]
  },
  {
   "cell_type": "code",
   "execution_count": 11,
   "id": "56405e4d-46be-4026-b077-6b949f387754",
   "metadata": {},
   "outputs": [
    {
     "data": {
      "text/plain": [
       "[9, 4, 1, 1, 6]"
      ]
     },
     "execution_count": 11,
     "metadata": {},
     "output_type": "execute_result"
    }
   ],
   "source": [
    "all_label[:5]"
   ]
  },
  {
   "cell_type": "markdown",
   "id": "b50c9182-7f6e-4f99-98e9-6705439fbc3e",
   "metadata": {},
   "source": [
    "이미지의 경로도 한번 확인해보겠습니다."
   ]
  },
  {
   "cell_type": "code",
   "execution_count": 12,
   "id": "532501e7-3adf-42ed-b0b6-72dbf9449a34",
   "metadata": {},
   "outputs": [
    {
     "data": {
      "text/plain": [
       "['data/save_data/train/001.PNG',\n",
       " 'data/save_data/train/002.PNG',\n",
       " 'data/save_data/train/003.PNG',\n",
       " 'data/save_data/train/004.PNG',\n",
       " 'data/save_data/train/005.PNG']"
      ]
     },
     "execution_count": 12,
     "metadata": {},
     "output_type": "execute_result"
    }
   ],
   "source": [
    "all_img_path[:5]"
   ]
  },
  {
   "cell_type": "code",
   "execution_count": 13,
   "id": "8c3bd314-f849-4ad0-9737-d76644091f79",
   "metadata": {},
   "outputs": [
    {
     "data": {
      "text/plain": [
       "['data/save_data/test/001.PNG',\n",
       " 'data/save_data/test/002.PNG',\n",
       " 'data/save_data/test/003.PNG',\n",
       " 'data/save_data/test/004.PNG',\n",
       " 'data/save_data/test/005.PNG']"
      ]
     },
     "execution_count": 13,
     "metadata": {},
     "output_type": "execute_result"
    }
   ],
   "source": [
    "test_img_path[:5]"
   ]
  },
  {
   "cell_type": "markdown",
   "id": "f386ba9c-4ba5-46ac-9223-11928a3cb1ef",
   "metadata": {},
   "source": [
    "## 3. 환경설정\n",
    "\n",
    "데이터를 전처리 하기위한 GPU 딥러닝 환경설정을 해보도록 하겠습니다"
   ]
  },
  {
   "cell_type": "code",
   "execution_count": 7,
   "id": "b7dc1bb8-a7c2-41ed-97d5-dcc246a44f2d",
   "metadata": {},
   "outputs": [],
   "source": [
    "import torch\n",
    "import torch.nn as nn\n",
    "\n",
    "os.environ[\"TOKENIZERS_PARALLELISM\"] = \"false\"\n",
    "os.environ[\"CUDA_DEVICE_ORDER\"]=\"PCI_BUS_ID\"  # Arrange GPU devices starting from 0\n",
    "os.environ[\"CUDA_VISIBLE_DEVICES\"]= \"2\"  # Set the GPU 2 to use, 멀티 gpu\n",
    "\n",
    "device = torch.device('cuda') if torch.cuda.is_available() else torch.device('cpu')"
   ]
  },
  {
   "cell_type": "code",
   "execution_count": 8,
   "id": "ff4a24c1-803d-43a7-a191-92ab6034d43e",
   "metadata": {},
   "outputs": [
    {
     "name": "stdout",
     "output_type": "stream",
     "text": [
      "Device: cuda\n",
      "There are 1 GPU(s) available.\n",
      "We will use the GPU: Tesla V100-PCIE-32GB\n"
     ]
    }
   ],
   "source": [
    "#GPU 체크 및 할당\n",
    "if torch.cuda.is_available():    \n",
    "    #device = torch.device(\"cuda:0\")\n",
    "    print('Device:', device)\n",
    "    print('There are %d GPU(s) available.' % torch.cuda.device_count())\n",
    "    print('We will use the GPU:', torch.cuda.get_device_name(0))\n",
    "else:\n",
    "    device = torch.device(\"cpu\")\n",
    "    print('No GPU available, using the CPU instead.')"
   ]
  },
  {
   "cell_type": "markdown",
   "id": "659857af-1d3e-4fd5-93f7-09524998e055",
   "metadata": {},
   "source": [
    "하이퍼 파라미터 값을 미리 지정하겠습니다."
   ]
  },
  {
   "cell_type": "code",
   "execution_count": 9,
   "id": "f67d8c84-0314-4061-9465-45b91ca17e44",
   "metadata": {},
   "outputs": [],
   "source": [
    "#하이퍼 파라미터 튜닝\n",
    "\n",
    "CFG = {\n",
    "    'IMG_SIZE':128, #이미지 사이즈\n",
    "    'EPOCHS':50, #에포크\n",
    "    'LEARNING_RATE':2e-2, #학습률\n",
    "    'BATCH_SIZE':12, #배치사이즈\n",
    "    'SEED':41, #시드\n",
    "}"
   ]
  },
  {
   "cell_type": "markdown",
   "id": "51855723-6664-43a5-8a09-437f72ed7fec",
   "metadata": {},
   "source": [
    "모델의 재현성을 위하여 random seed를 고정하겠습니다."
   ]
  },
  {
   "cell_type": "code",
   "execution_count": 10,
   "id": "8e9558fe-7ea7-431b-960e-b9f1bc275ad3",
   "metadata": {},
   "outputs": [],
   "source": [
    "# Seed 고정\n",
    "import random\n",
    "import numpy as np\n",
    "\n",
    "def seed_everything(seed):\n",
    "    random.seed(seed)\n",
    "    os.environ['PYTHONHASHSEED'] = str(seed)\n",
    "    np.random.seed(seed)\n",
    "    torch.manual_seed(seed)\n",
    "    torch.cuda.manual_seed(seed)\n",
    "    torch.backends.cudnn.deterministic = True\n",
    "    torch.backends.cudnn.benchmark = True\n",
    "\n",
    "seed_everything(CFG['SEED'])"
   ]
  },
  {
   "cell_type": "markdown",
   "id": "b21c5650-4b8b-46b2-855c-9dcf10762a83",
   "metadata": {},
   "source": [
    "# II. 데이터 전처리"
   ]
  },
  {
   "cell_type": "markdown",
   "id": "036d26c0-ecd6-4447-b04c-02e0f4f20b39",
   "metadata": {},
   "source": [
    "## 2. CustomDataset\n",
    "\n",
    "CustomDataset을 만들어 전체 dataset을 구성해보도록 하겠습니다.  "
   ]
  },
  {
   "cell_type": "code",
   "execution_count": 14,
   "id": "42468fd0-5d76-4e3e-9257-9718fc931974",
   "metadata": {},
   "outputs": [],
   "source": [
    "import torchvision.datasets as datasets # 이미지 데이터셋 집합체\n",
    "import torchvision.transforms as transforms # 이미지 변환 툴\n",
    "\n",
    "from torch.utils.data import DataLoader # 학습 및 배치로 모델에 넣어주기 위한 툴\n",
    "from torch.utils.data import DataLoader, Dataset\n",
    "\n",
    "import cv2\n",
    "\n",
    "class CustomDataset(Dataset):\n",
    "    def __init__(self, img_path_list, label_list, train_mode=True, transforms=None): #필요한 변수들을 선언\n",
    "        self.transforms = transforms\n",
    "        self.train_mode = train_mode\n",
    "        self.img_path_list = img_path_list\n",
    "        self.label_list = label_list\n",
    "\n",
    "    def __getitem__(self, index): #index번째 data를 return\n",
    "        img_path = self.img_path_list[index]\n",
    "        # Get image data\n",
    "        #print(img_path)\n",
    "        image = cv2.imread(img_path)\n",
    "        if self.transforms is not None:\n",
    "            image = self.transforms(image)\n",
    "\n",
    "        if self.train_mode:\n",
    "            label = self.label_list[index]\n",
    "            return image, label\n",
    "        else:\n",
    "            return image\n",
    "    \n",
    "    def __len__(self): #길이 return\n",
    "        return len(self.img_path_list)"
   ]
  },
  {
   "cell_type": "markdown",
   "id": "6df31729-878b-4fc0-a63a-8ab0c4752f9c",
   "metadata": {},
   "source": [
    "데이터 셋에서 정상적으로 데이터 셋이 만들어 졌는지 임시로 이미지를 하나 추출해보도록 하겠습니다."
   ]
  },
  {
   "cell_type": "code",
   "execution_count": 16,
   "id": "05027cda-61d0-40da-803f-4829955a68da",
   "metadata": {},
   "outputs": [],
   "source": [
    "tempdataset = CustomDataset(all_img_path, all_label, train_mode=False)"
   ]
  },
  {
   "cell_type": "code",
   "execution_count": 17,
   "id": "05943e4c-79b5-42e8-846f-861cfed373eb",
   "metadata": {},
   "outputs": [
    {
     "data": {
      "text/plain": [
       "<matplotlib.image.AxesImage at 0x7f15bd0529b0>"
      ]
     },
     "execution_count": 17,
     "metadata": {},
     "output_type": "execute_result"
    },
    {
     "data": {
      "image/png": "[encoded data removed]",
      "text/plain": [
       "<Figure size 432x288 with 1 Axes>"
      ]
     },
     "metadata": {
      "needs_background": "light"
     },
     "output_type": "display_data"
    }
   ],
   "source": [
    "import matplotlib.pyplot as plt\n",
    "\n",
    "plt.imshow(tempdataset.__getitem__(0))"
   ]
  },
  {
   "cell_type": "markdown",
   "id": "4449a019-56de-45d7-900b-fceb4238023c",
   "metadata": {},
   "source": [
    "임시 데이터 셋의 첫번째 이미지 데이터는 서울숲 이군요!"
   ]
  },
  {
   "cell_type": "markdown",
   "id": "299e345b-0b6c-46e2-b905-1edd0d78e7c9",
   "metadata": {},
   "source": [
    "## 3. Train / Validation Split\n",
    "\n",
    "그럼 학습시킬 데이터 셋과 검증할 데이터 셋을 분리해주도록 하겠습니다."
   ]
  },
  {
   "cell_type": "code",
   "execution_count": 18,
   "id": "b6454c06-6ba3-4917-af58-47c0b80ab67f",
   "metadata": {},
   "outputs": [],
   "source": [
    "# Train : Validation = 0.75 : 0.25 Split\n",
    "train_len = int(len(all_img_path)*0.75)\n",
    "Vali_len = int(len(all_img_path)*0.25)\n",
    "\n",
    "train_img_path = all_img_path[:train_len]\n",
    "train_label = all_label[:train_len]\n",
    "\n",
    "vali_img_path = all_img_path[train_len:]\n",
    "vali_label = all_label[train_len:]"
   ]
  },
  {
   "cell_type": "code",
   "execution_count": 19,
   "id": "dd682336-8195-439e-af19-2a951b2de1e8",
   "metadata": {},
   "outputs": [
    {
     "name": "stdout",
     "output_type": "stream",
     "text": [
      "train set 길이 :  542\n",
      "vaildation set 길이 :  180\n"
     ]
    }
   ],
   "source": [
    "print('train set 길이 : ', train_len)\n",
    "print('vaildation set 길이 : ', Vali_len)"
   ]
  },
  {
   "cell_type": "markdown",
   "id": "46e9e7fd-15d2-47cd-a390-60c145cf441e",
   "metadata": {},
   "source": [
    "train set은 542개, vaildation set은 180개로 나뉘어진 것을 확인할 수 있습니다.  \n",
    "\n",
    "## 4. transform\n",
    "\n",
    "그럼 나뉜 데이터 셋에서 이미지를 분석 하기 위해 이미지 변형(transform)을 적용해보도록 하겠습니다."
   ]
  },
  {
   "cell_type": "code",
   "execution_count": 20,
   "id": "77699d57-7329-439c-85fe-2baef9d8d970",
   "metadata": {},
   "outputs": [],
   "source": [
    "train_transform = transforms.Compose([\n",
    "                    transforms.ToPILImage(), #Numpy배열에서 PIL이미지로\n",
    "                    transforms.Resize([CFG['IMG_SIZE'], CFG['IMG_SIZE']]), #이미지 사이즈 변형\n",
    "                    transforms.ToTensor(), #이미지 데이터를 tensor\n",
    "                    transforms.Normalize(mean=(0.5, 0.5, 0.5), std=(0.5, 0.5, 0.5)) #이미지 정규화\n",
    "                    \n",
    "                    ])\n",
    "\n",
    "test_transform = transforms.Compose([\n",
    "                    transforms.ToPILImage(),\n",
    "                    transforms.Resize([CFG['IMG_SIZE'], CFG['IMG_SIZE']]),\n",
    "                    transforms.ToTensor(),\n",
    "                    transforms.Normalize(mean=(0.5, 0.5, 0.5), std=(0.5, 0.5, 0.5))\n",
    "                    ])"
   ]
  },
  {
   "cell_type": "markdown",
   "id": "4a608a55-10e5-4771-a29e-59c5045de0d1",
   "metadata": {},
   "source": [
    "## 5. Dataloader\n",
    "Dataloader class는 batch기반의 딥러닝모델 학습을 위해서 mini batch를 만들어주는 역할을 합니다. \n",
    "\n",
    "dataloader를 통해 dataset의 전체 데이터가 batch size로 나뉘게 됩니다. \n",
    "\n",
    "만들었던 dataset을 input으로 넣어주면 여러 옵션(데이터 묶기, 섞기, 알아서 병렬처리)을 통해 batch를 만들어 내는 것입니다."
   ]
  },
  {
   "cell_type": "code",
   "execution_count": 21,
   "id": "2ed5c12b-4d1b-4b4f-b0aa-549464ad0c01",
   "metadata": {},
   "outputs": [],
   "source": [
    "# Get Dataloader\n",
    "\n",
    "#CustomDataset class를 통하여 train dataset생성\n",
    "train_dataset = CustomDataset(train_img_path, train_label, train_mode=True, transforms=train_transform) \n",
    "#만든 train dataset를 DataLoader에 넣어 batch 만들기\n",
    "train_loader = DataLoader(train_dataset, batch_size = CFG['BATCH_SIZE'], shuffle=True, num_workers=0)\n",
    "\n",
    "#vaildation 에서도 적용\n",
    "vali_dataset = CustomDataset(vali_img_path, vali_label, train_mode=True, transforms=test_transform)\n",
    "vali_loader = DataLoader(vali_dataset, batch_size = CFG['BATCH_SIZE'], shuffle=False, num_workers=0)"
   ]
  },
  {
   "cell_type": "code",
   "execution_count": 22,
   "id": "00375b68-3c48-4245-93d7-7209602cf58c",
   "metadata": {},
   "outputs": [
    {
     "name": "stdout",
     "output_type": "stream",
     "text": [
      "total train imgs : 542 / total train batches : 46\n",
      "total valid imgs : 180 / total valid batches : 16\n"
     ]
    }
   ],
   "source": [
    "train_batches = len(train_loader)\n",
    "vali_batches = len(vali_loader)\n",
    "\n",
    "print('total train imgs :',train_len,'/ total train batches :', train_batches)\n",
    "print('total valid imgs :',Vali_len, '/ total valid batches :', vali_batches)"
   ]
  },
  {
   "cell_type": "markdown",
   "id": "4ac70b18-a25c-4401-801b-35cc7a8de2b4",
   "metadata": {},
   "source": [
    "배치 사이즈가 12이므로    \n",
    "train은 46 묶음 vaildation은 16 묶음으로 묶인 것을 볼 수 있습니다."
   ]
  },
  {
   "cell_type": "markdown",
   "id": "ec3790ea-ccc0-4a3c-ac24-13408cd173be",
   "metadata": {},
   "source": [
    "# III. 모델링\n",
    "\n",
    "## 1. 모델 구조 정의\n",
    "\n",
    "이제 CNN(Convolutional Neural Network) 모델을 학습시키기 위한 데이터가 준비되었다면          \n",
    "모델 구조를 설정하는 단계로 넘어가겠습니다.\n",
    "\n",
    "실습에 앞서, 코드로 들어가기 전 먼저 간단하게 CNN 모델을 이해하기 위한 기본 개념들을 둘러보겠습니다.\n",
    "\n",
    "### - Neural Network (신경망)\n",
    "신경망은 다른 말로 인공 신경망(Artificial Neural Network)이라고도 불립니다.\n",
    "\n",
    "신경망이란 뇌 속 뉴런의 망형 구조를 닮은 다층형 구조의 컴퓨팅 모델입니다.   \n",
    "여기에는 서로 연결된 처리 소자, 일명 '뉴런'이라는 것이 있으며 생물학적 뉴런을 수학적으로 모델링한 것인데,   \n",
    "이들이 서로 협력하여 출력 함수를 도출합니다.   \n",
    "\n",
    "신경망은 입력 및 출력 계층/차원으로 구성되며 대부분은 숨겨진 계층도 있습니다.   \n",
    "숨겨진 계층은 입력을 출력 계층에서 사용할 수 있는 무언가로 변환해주는 단위로 구성됩니다.  \n",
    "따라서 인공신경망 뉴런은 여러 입력값을 받아 일정 수준을 넘어서게 되면 활성화되고 출력값을 내보냅니다."
   ]
  },
  {
   "cell_type": "markdown",
   "id": "1092973f-1c95-4c9f-82c6-d09eda8a6a38",
   "metadata": {},
   "source": [
    "### 1) Activation Function (활성화 함수)\n",
    "\n",
    "딥러닝 네트워크에서 노드에 입력된 값들을 비선형 함수에 통과시킨 후 다음 레이어로 전달하는데,    \n",
    "이 때 사용하는 함수를 활성화 함수(Activation Function)라고 합니다.\n",
    "\n",
    "선형 함수가 아니라 비선형 함수를 사용하는 이유는 딥러닝 모델의 레이어 층을 깊게 가져갈 수 있기 때문입니다.\n",
    "\n",
    "그럼 대표적인 활성화 함수 몇가지만 보겠습니다.\n",
    "\n",
    "#### 1.1) Sigmoid\n",
    "Sigmoid 함수는 Logistic 함수라고 불리기도 하며, x의 값에 따라 0~1의 값을 출력하는 S자형 함수입니다.  \n",
    "sigmoid 함수는 활성화 함수(Activation function)로 많이 사용되며 보통 0.5 미만은 0, 이상은 1을 출력하게 됩니다.\n",
    "\n",
    "sigmoid(x) = 1 / 1 + exp(-x)   \n",
    "그래프는 다음과 같습니다."
   ]
  },
  {
   "cell_type": "markdown",
   "id": "fd4244ef-064a-4327-a6f7-eb04846ce9d5",
   "metadata": {},
   "source": [
    "그러나 이런 sigmoid 함수에는 단점이 있습니다.\n",
    "\n",
    "그래프를 보시면 양 극단 값의 기울기(미분값)이 0에 가까워져 학습이 되지 않는 문제가 발생합니다.     \n",
    "이를 Gradient Vanishing 문제라고 하는데 이러한 문제를 해결하기 위해 다양한 활성화 함수들이 고안되었습니다.   "
   ]
  },
  {
   "cell_type": "markdown",
   "id": "fbe08bb1-d85f-40f9-8b15-3a7bbcc1b11e",
   "metadata": {},
   "source": [
    "### 2) Perceptron (퍼셉트론)\n",
    "퍼셉트론이란 신경망의 기원이 되는 개념으로, Frank Rosenblatt이 1957년 고안한 알고리즘입니다.\n",
    "\n",
    "이는 여러 신호를 입력받아 0(흐르지 않는다) 또는 1(흐른다)이라는 출력값을 앞으로 전달합니다.\n",
    "\n",
    "각 입력 신호 X는 각 가중치 w와 곱해집니다. 가중치가 클수록 그 신호가 중요하다는 뜻입니다.\n",
    "\n",
    "그러나 퍼셉트론은 단순한 선형 분류기로, AND나 OR과 같은 분류는 가능하나 XOR 분류는 불가능합니다."
   ]
  },
  {
   "cell_type": "markdown",
   "id": "232b97da-5088-45d8-8570-44729ce805ee",
   "metadata": {},
   "source": [
    "### 3) MLP(Multi-Layer Perceptron 다층 퍼셉트론)\n",
    "\n",
    "직선형 영역만 표시할 수 있는 단층 퍼셉트론의 한계를 극복하기 위해 고안된 것이 다층 퍼셉트론입니다.\n",
    "\n",
    "XOR 문제의 경우 각 영역을 직선으로 분리가 불가능한데, 비선형 영역까지 표현 가능한 다층 퍼셉트론으로 XOR 게이트까지 구현할 수 있습니다.\n"
   ]
  },
  {
   "cell_type": "code",
   "execution_count": 24,
   "id": "d4b8c477-2097-46fb-b374-6fc82bd79b75",
   "metadata": {},
   "outputs": [],
   "source": [
    "from tqdm.auto import tqdm\n",
    "import torch.nn as nn # 신경망들이 포함됨\n",
    "#import torch.nn.init as init # 텐서에 초기값을 줌\n",
    "\n",
    "class CNNclassification(torch.nn.Module):\n",
    "    def __init__(self):\n",
    "        super(CNNclassification, self).__init__()\n",
    "        self.layer1 = torch.nn.Sequential(\n",
    "            nn.Conv2d(3, 8, kernel_size=3, stride=1, padding=1), #cnn layer\n",
    "            nn.ReLU(), #activation function\n",
    "            nn.MaxPool2d(kernel_size=2, stride=2)) #pooling layer\n",
    "        \n",
    "        self.layer2 = torch.nn.Sequential(\n",
    "            nn.Conv2d(8, 16, kernel_size=3, stride=1, padding=1), #cnn layer\n",
    "            nn.ReLU(), #activation function\n",
    "            nn.MaxPool2d(kernel_size=2, stride=2)) #pooling layer\n",
    "        \n",
    "        self.layer3 = torch.nn.Sequential(\n",
    "            nn.Conv2d(16, 32, kernel_size=3, stride=1, padding=1), #cnn layer\n",
    "            nn.ReLU(), #activation function\n",
    "            nn.MaxPool2d(kernel_size=2, stride=2)) #pooling layer\n",
    "        \n",
    "        self.layer4 = torch.nn.Sequential(\n",
    "            nn.Conv2d(32, 64, kernel_size=4, stride=1, padding=1), #cnn layer\n",
    "            nn.ReLU(), #activation function\n",
    "            nn.MaxPool2d(kernel_size=2, stride=2)) #pooling layer\n",
    "        \n",
    "        self.fc_layer = nn.Sequential( \n",
    "            nn.Linear(3136, 10) #fully connected layer(ouput layer)\n",
    "        )    \n",
    "        \n",
    "    def forward(self, x):\n",
    "        \n",
    "        x = self.layer1(x) #1층\n",
    "        \n",
    "        x = self.layer2(x) #2층\n",
    "         \n",
    "        x = self.layer3(x) #3층\n",
    "        \n",
    "        x = self.layer4(x) #4층\n",
    "        \n",
    "        x = torch.flatten(x, start_dim=1) # N차원 배열 -> 1차원 배열\n",
    "        \n",
    "        out = self.fc_layer(x)\n",
    "        return out"
   ]
  },
  {
   "cell_type": "markdown",
   "id": "60ec21ee-948c-4650-ab71-a54d7ecdd604",
   "metadata": {},
   "source": [
    "### Convoultion Layer\n",
    "\n",
    "Convolution Layer에서는 이미지의 특징(feature map)을 추출해내는 역할을 합니다.   \n",
    "\n",
    "입력 데이터가 주어지면 필터를 이용해 특징을 추출한 다음 아웃풋을 내보냅니다.   \n",
    "\n",
    "이 필터는 커널(Kernel) 혹은 가중치의 배열이라고도 부르며 이 값을 조정하는 것이 곧 학습을 의미합니다.   \n",
    "\n",
    "첫번째 Convolution Layer에서는 3x3 크기의 커널을 사용했습니다. 이는 곧 학습해야 할 가중치가 9개라는 뜻입니다.   \n",
    "  \n",
    "### Stride   \n",
    "커널을 이동시키는 거리입니다. 특별한 언급이 없다면 1로 가정합니다.   \n",
    "\n",
    "Convolution을 하게되면 입력 데이터의 크기가 자연스럽게 줄어들게 되는데, \n",
    "\n",
    "주변에 값이 0인 셀들을 추가(Padding)해서 입력 데이터의 크기를 유지시키기도 합니다.\n",
    "\n",
    "### Padding\n",
    "zero padding은 이미지 주위에 0을 둘러서 이미지 데이터의 축소를 방지해주는 역할을 합니다.\n",
    "\n",
    "필터로 인해 특징이 추출되면 자연스럽게 크기가 작아지는데, \n",
    "\n",
    "이미지 벡터들 가장자리에 0을 채워 Convolution Layer를 통과할 때 크기를 동일하게 유지시켜줄 수 있습니다.\n",
    "\n",
    "### ReLU\n",
    "앞서 도입부에서 말씀 드린 것 처럼, ReLU는 활성화 함수 중 하나입니다.\n",
    "\n",
    "Gradient Vanishing 문제를 해결 가능하고 계산이 빠르고 양 극단값이 포화되지 않는다는 장점이 있습니다.\n",
    "\n",
    "### Pooling Layer - Max Pooling\n",
    "\n",
    "Pooling Layer는 데이터의 공간적 크기를 축소하는데 사용합니다.\n",
    "\n",
    "보통 이 레이어에서 이미지의 크기를 조절하며, CNN에서는 주로 Max-Pooling 방식을 사용합니다.\n",
    "\n",
    "Conv layer 는 이미지의 특정 영역의 특징을 잡아내는 역할이라면, \n",
    "\n",
    "Pooling 은 이미지의 크기를 줄이는 동시에 이미지의 전체의 특징 또한 보존합니다.\n",
    "\n",
    "따라서 Pooling 은 모델로 하여금 이미지 전체를 볼 수 있게 도와줍니다.\n",
    "\n",
    "Max Pooling에서는 선택된 영역에서 가장 큰 값을 뽑아 대표값으로 설정하는 방식입니다.\n",
    "\n",
    "이를 통해 학습 시간을 단축하고 오버피팅 문제를 완화할 수 있습니다.\n",
    "\n",
    "### Fully Connected (output) Layer\n",
    "\n",
    "이전 레이어의 출력을 평탄화하여 다음 스테이지의 입력이 될 수 있는 단일 벡터로 변환합니다.\n",
    "\n",
    "마지막으로 각 라벨에 대한 최종 확률을 제공합니다."
   ]
  },
  {
   "cell_type": "markdown",
   "id": "c32f04fd-42ce-46f0-b947-1b92a1a72d30",
   "metadata": {},
   "source": [
    "## 2. 모델 학습\n",
    "\n",
    "이제 모델 학습을 하기 위해 매개변수를 정의해보도록 하겠습니다."
   ]
  },
  {
   "cell_type": "code",
   "execution_count": 25,
   "id": "3a076edf-52fd-4b81-9e75-b3af9a392da4",
   "metadata": {},
   "outputs": [],
   "source": [
    "import torch.optim as optim # 최적화 알고리즘들이 포함힘\n",
    "\n",
    "model = CNNclassification().to(device)\n",
    "criterion = torch.nn.CrossEntropyLoss()\n",
    "optimizer = torch.optim.SGD(params = model.parameters(), lr = CFG[\"LEARNING_RATE\"])\n",
    "scheduler = None"
   ]
  },
  {
   "cell_type": "markdown",
   "id": "ae7cccb7-ad0b-4c87-95d3-1b153aadbc97",
   "metadata": {},
   "source": [
    "이번 베이스라인에서는 모델은 기본 CNN classification 모델을 사용했습니다.\n",
    "\n",
    "### Loss Function\n",
    "\n",
    "손실함수로는 classification 문제이기 때문에 'CrossEntropyLoss'를 사용했습니다.\n",
    "\n",
    "손실함수는 실제 값과 모델이 예측한 값의 거리를 출력하는 함수 입니다.\n",
    "\n",
    "쉽게 말해 손실함수는 모델의 예측이 얼마나 틀렸는지를 알려주는 함수 입니다.\n",
    "\n",
    "이 때 \"모델의 예측이 얼마나 틀렸는지\" 를 어떻게 정의하느냐에 따라 어떤 Loss Function 을 사용할 지가 정해지는 것 입니다.\n",
    "\n",
    "### Optimizer \n",
    "\n",
    "최적화 함수로는 확률적 경사 하강법인 'SGD(Stochastic Gradient Descent)'를 사용했습니다. \n",
    "\n",
    "Optimizer는 학습 데이터(Train data)셋을 이용하여 모델을 학습 할 때 데이터의 실제 결과와 모델이 예측한 결과를 기반으로 잘 줄일 수 있게 만들어주는 역할을 합니다.\n",
    "\n",
    "여기서 learning rate, 학습률은 얼마나 빠른속도로 이동할것이냐 입니다.\n",
    "\n",
    "learning rate를 엄청 크게 설정한다면 원하는 값까지 빠르게 도달할 수 있지만 자칫하면 오히려 최소값을 계산하도록 수렴하지 못합니다.\n",
    "\n",
    "반면 너무 작은 경우는 시간이 매우 오래걸립니다.\n",
    "\n",
    "따라서 적절한 learning rate설정이 중요합니다.\n",
    "\n",
    "이제 train 메소드를 통하여 train을 학습 시켜 vaildation으로 평가하는 메소드를 작성해보겠습니다."
   ]
  },
  {
   "cell_type": "code",
   "execution_count": 26,
   "id": "9b40b592-450a-41f3-822f-75c348d80268",
   "metadata": {},
   "outputs": [],
   "source": [
    "from tqdm import tqdm\n",
    "\n",
    "def train(model, optimizer, train_loader, scheduler, device): \n",
    "    model.to(device)\n",
    "    n = len(train_loader)\n",
    "    best_acc = 0\n",
    "    \n",
    "    for epoch in range(1,CFG[\"EPOCHS\"]+1): #에포크 설정\n",
    "        model.train() #모델 학습\n",
    "        running_loss = 0.0\n",
    "            \n",
    "        for img, label in tqdm(iter(train_loader)):\n",
    "            img, label = img.to(device), label.to(device) #배치 데이터\n",
    "            optimizer.zero_grad() #배치마다 optimizer 초기화\n",
    "        \n",
    "            # Data -> Model -> Output\n",
    "            logit = model(img) #예측값 산출\n",
    "            loss = criterion(logit, label) #손실함수 계산\n",
    "            \n",
    "            # 역전파\n",
    "            loss.backward() #손실함수 기준 역전파 \n",
    "            optimizer.step() #가중치 최적화\n",
    "            running_loss += loss.item()\n",
    "              \n",
    "        print('[%d] Train loss: %.10f' %(epoch, running_loss / len(train_loader)))\n",
    "        \n",
    "        if scheduler is not None:\n",
    "            scheduler.step()\n",
    "            \n",
    "        #Validation set 평가\n",
    "        model.eval() #evaluation 과정에서 사용하지 않아야 하는 layer들을 알아서 off 시키도록 하는 함수\n",
    "        vali_loss = 0.0\n",
    "        correct = 0\n",
    "        with torch.no_grad(): #파라미터 업데이트 안하기 때문에 no_grad 사용\n",
    "            for img, label in tqdm(iter(vali_loader)):\n",
    "                img, label = img.to(device), label.to(device)\n",
    "\n",
    "                logit = model(img)\n",
    "                vali_loss += criterion(logit, label)\n",
    "                pred = logit.argmax(dim=1, keepdim=True)  #11개의 class중 가장 값이 높은 것을 예측 label로 추출\n",
    "                correct += pred.eq(label.view_as(pred)).sum().item() #예측값과 실제값이 맞으면 1 아니면 0으로 합산\n",
    "        vali_acc = 100 * correct / len(vali_loader.dataset)\n",
    "        print('Vail set: Loss: {:.4f}, Accuracy: {}/{} ( {:.0f}%)\\n'.format(vali_loss / len(vali_loader), correct, len(vali_loader.dataset), 100 * correct / len(vali_loader.dataset)))\n",
    "        \n",
    "        #베스트 모델 저장\n",
    "        if best_acc < vali_acc:\n",
    "            best_acc = vali_acc\n",
    "            torch.save(model.state_dict(), 'data/save_data/saved/best_model.pth') #이 디렉토리에 best_model.pth을 저장\n",
    "            print('Model Saved.')"
   ]
  },
  {
   "cell_type": "markdown",
   "id": "6965bfd5-eaff-47d2-8b34-0f68f468bf47",
   "metadata": {},
   "source": [
    "classification 문제이기 때문에 평가지표로는 Accuarcy를 사용하여 모델의 정확도를 산출하였습니다.\n",
    "\n",
    "### epoch\n",
    "딥러닝에서 epoch는 전체 트레이닝 셋이 신경망을 통과한 횟수입니다.\n",
    "\n",
    "1-epoch는 전체 트레이닝 셋이 하나의 신경망에 적용되어 순전파와 역전파를 통해 신경망을 한 번 통과했다는 뜻입니다.\n",
    "\n",
    "epoch 은 많을 수록 학습이 잘되는 것이 아닙니다.\n",
    "\n",
    "epoch 이 너무 적을 경우 학습이 덜 이루어지는 경우가 있고, epoch 이 너무 많을 경우 과적합이 되는 경우가 있습니다.\n",
    "\n",
    "따라서 적절한 epoch 을 설정해 주어야 합니다.\n",
    "\n",
    "이때 validation loss 와 accuracy 은 epoch 을 언제 중단 할지 모니터링 하는 용도로 사용되기도 합니다.\n",
    "\n",
    "### batch size\n",
    "batch size란 cpu 또는 gpu 연산 시, 하드웨어로 로드되는 데이터의 개수 입니다.\n",
    "\n",
    "본인의 컴퓨팅 환경에 따라 batch size 를 조절하는 것이 좋습니다.\n",
    "\n",
    "gpu 를 사용하는 경우 본인의 gpu 메모리 용량을 고려하여 batch size 를 설정해 주어야 합니다.\n",
    "\n",
    "batch size 는 모델 학습 과정에 영향을 끼치기도 합니다.\n",
    "\n",
    "따라서 하드웨어 상황을 고려하면서도 학습 과정 또한 고려하여 batch size 를 설정해 주어야 합니다.\n",
    "\n",
    "### Backpropagation (역전파)\n",
    "Backpropagation 오차 역전파법이라고도 하며 예측값과 실제값의 차이인 오차를 계산하고,\n",
    "\n",
    "이것을 다시 역으로 전파하여 가중치를 수정하여 오차가 작아지는 방향으로 일정 횟수를 반복해 수정하는 방법입니다.\n",
    "\n",
    "이때, 역전파 과정에서는 앞서 언급했던 최적화 함수를 이용합니다."
   ]
  },
  {
   "cell_type": "code",
   "execution_count": 27,
   "id": "8c09e88c-3a9f-49bf-b579-4210817b2fa0",
   "metadata": {},
   "outputs": [
    {
     "name": "stderr",
     "output_type": "stream",
     "text": [
      "100%|██████████| 46/46 [00:12<00:00,  3.65it/s]\n"
     ]
    },
    {
     "name": "stdout",
     "output_type": "stream",
     "text": [
      "[1] Train loss: 2.3030672799\n"
     ]
    },
    {
     "name": "stderr",
     "output_type": "stream",
     "text": [
      "100%|██████████| 16/16 [00:03<00:00,  4.39it/s]\n"
     ]
    },
    {
     "name": "stdout",
     "output_type": "stream",
     "text": [
      "Vail set: Loss: 2.3060, Accuracy: 14/181 ( 8%)\n",
      "\n",
      "Model Saved.\n"
     ]
    },
    {
     "name": "stderr",
     "output_type": "stream",
     "text": [
      "100%|██████████| 46/46 [00:10<00:00,  4.19it/s]\n"
     ]
    },
    {
     "name": "stdout",
     "output_type": "stream",
     "text": [
      "[2] Train loss: 2.2919972409\n"
     ]
    },
    {
     "name": "stderr",
     "output_type": "stream",
     "text": [
      "100%|██████████| 16/16 [00:03<00:00,  4.31it/s]\n"
     ]
    },
    {
     "name": "stdout",
     "output_type": "stream",
     "text": [
      "Vail set: Loss: 2.3025, Accuracy: 24/181 ( 13%)\n",
      "\n",
      "Model Saved.\n"
     ]
    },
    {
     "name": "stderr",
     "output_type": "stream",
     "text": [
      "100%|██████████| 46/46 [00:11<00:00,  4.17it/s]\n"
     ]
    },
    {
     "name": "stdout",
     "output_type": "stream",
     "text": [
      "[3] Train loss: 2.2536942389\n"
     ]
    },
    {
     "name": "stderr",
     "output_type": "stream",
     "text": [
      "100%|██████████| 16/16 [00:03<00:00,  4.35it/s]\n"
     ]
    },
    {
     "name": "stdout",
     "output_type": "stream",
     "text": [
      "Vail set: Loss: 2.2211, Accuracy: 39/181 ( 22%)\n",
      "\n",
      "Model Saved.\n"
     ]
    },
    {
     "name": "stderr",
     "output_type": "stream",
     "text": [
      "100%|██████████| 46/46 [00:11<00:00,  4.15it/s]\n"
     ]
    },
    {
     "name": "stdout",
     "output_type": "stream",
     "text": [
      "[4] Train loss: 1.7832597637\n"
     ]
    },
    {
     "name": "stderr",
     "output_type": "stream",
     "text": [
      "100%|██████████| 16/16 [00:03<00:00,  4.46it/s]\n"
     ]
    },
    {
     "name": "stdout",
     "output_type": "stream",
     "text": [
      "Vail set: Loss: 2.4406, Accuracy: 59/181 ( 33%)\n",
      "\n",
      "Model Saved.\n"
     ]
    },
    {
     "name": "stderr",
     "output_type": "stream",
     "text": [
      "100%|██████████| 46/46 [00:10<00:00,  4.25it/s]\n"
     ]
    },
    {
     "name": "stdout",
     "output_type": "stream",
     "text": [
      "[5] Train loss: 1.2599619562\n"
     ]
    },
    {
     "name": "stderr",
     "output_type": "stream",
     "text": [
      "100%|██████████| 16/16 [00:03<00:00,  4.25it/s]\n"
     ]
    },
    {
     "name": "stdout",
     "output_type": "stream",
     "text": [
      "Vail set: Loss: 1.6040, Accuracy: 89/181 ( 49%)\n",
      "\n",
      "Model Saved.\n"
     ]
    },
    {
     "name": "stderr",
     "output_type": "stream",
     "text": [
      "100%|██████████| 46/46 [00:10<00:00,  4.25it/s]\n"
     ]
    },
    {
     "name": "stdout",
     "output_type": "stream",
     "text": [
      "[6] Train loss: 1.0158008454\n"
     ]
    },
    {
     "name": "stderr",
     "output_type": "stream",
     "text": [
      "100%|██████████| 16/16 [00:03<00:00,  4.41it/s]\n"
     ]
    },
    {
     "name": "stdout",
     "output_type": "stream",
     "text": [
      "Vail set: Loss: 1.3424, Accuracy: 104/181 ( 57%)\n",
      "\n",
      "Model Saved.\n"
     ]
    },
    {
     "name": "stderr",
     "output_type": "stream",
     "text": [
      "100%|██████████| 46/46 [00:10<00:00,  4.19it/s]\n"
     ]
    },
    {
     "name": "stdout",
     "output_type": "stream",
     "text": [
      "[7] Train loss: 0.8129388658\n"
     ]
    },
    {
     "name": "stderr",
     "output_type": "stream",
     "text": [
      "100%|██████████| 16/16 [00:03<00:00,  4.40it/s]\n"
     ]
    },
    {
     "name": "stdout",
     "output_type": "stream",
     "text": [
      "Vail set: Loss: 2.6244, Accuracy: 72/181 ( 40%)\n",
      "\n"
     ]
    },
    {
     "name": "stderr",
     "output_type": "stream",
     "text": [
      "100%|██████████| 46/46 [00:10<00:00,  4.24it/s]\n"
     ]
    },
    {
     "name": "stdout",
     "output_type": "stream",
     "text": [
      "[8] Train loss: 0.7815816960\n"
     ]
    },
    {
     "name": "stderr",
     "output_type": "stream",
     "text": [
      "100%|██████████| 16/16 [00:03<00:00,  4.42it/s]\n"
     ]
    },
    {
     "name": "stdout",
     "output_type": "stream",
     "text": [
      "Vail set: Loss: 1.7632, Accuracy: 95/181 ( 52%)\n",
      "\n"
     ]
    },
    {
     "name": "stderr",
     "output_type": "stream",
     "text": [
      "100%|██████████| 46/46 [00:10<00:00,  4.23it/s]\n"
     ]
    },
    {
     "name": "stdout",
     "output_type": "stream",
     "text": [
      "[9] Train loss: 0.5734949272\n"
     ]
    },
    {
     "name": "stderr",
     "output_type": "stream",
     "text": [
      "100%|██████████| 16/16 [00:03<00:00,  4.25it/s]\n"
     ]
    },
    {
     "name": "stdout",
     "output_type": "stream",
     "text": [
      "Vail set: Loss: 0.8433, Accuracy: 129/181 ( 71%)\n",
      "\n",
      "Model Saved.\n"
     ]
    },
    {
     "name": "stderr",
     "output_type": "stream",
     "text": [
      "100%|██████████| 46/46 [00:11<00:00,  4.16it/s]\n"
     ]
    },
    {
     "name": "stdout",
     "output_type": "stream",
     "text": [
      "[10] Train loss: 0.3437301606\n"
     ]
    },
    {
     "name": "stderr",
     "output_type": "stream",
     "text": [
      "100%|██████████| 16/16 [00:03<00:00,  4.43it/s]\n"
     ]
    },
    {
     "name": "stdout",
     "output_type": "stream",
     "text": [
      "Vail set: Loss: 0.8248, Accuracy: 134/181 ( 74%)\n",
      "\n",
      "Model Saved.\n"
     ]
    },
    {
     "name": "stderr",
     "output_type": "stream",
     "text": [
      "100%|██████████| 46/46 [00:10<00:00,  4.19it/s]\n"
     ]
    },
    {
     "name": "stdout",
     "output_type": "stream",
     "text": [
      "[11] Train loss: 0.3175920848\n"
     ]
    },
    {
     "name": "stderr",
     "output_type": "stream",
     "text": [
      "100%|██████████| 16/16 [00:03<00:00,  4.48it/s]\n"
     ]
    },
    {
     "name": "stdout",
     "output_type": "stream",
     "text": [
      "Vail set: Loss: 0.7924, Accuracy: 128/181 ( 71%)\n",
      "\n"
     ]
    },
    {
     "name": "stderr",
     "output_type": "stream",
     "text": [
      "100%|██████████| 46/46 [00:10<00:00,  4.26it/s]\n"
     ]
    },
    {
     "name": "stdout",
     "output_type": "stream",
     "text": [
      "[12] Train loss: 0.2528374255\n"
     ]
    },
    {
     "name": "stderr",
     "output_type": "stream",
     "text": [
      "100%|██████████| 16/16 [00:03<00:00,  4.48it/s]\n"
     ]
    },
    {
     "name": "stdout",
     "output_type": "stream",
     "text": [
      "Vail set: Loss: 0.6967, Accuracy: 140/181 ( 77%)\n",
      "\n",
      "Model Saved.\n"
     ]
    },
    {
     "name": "stderr",
     "output_type": "stream",
     "text": [
      "100%|██████████| 46/46 [00:10<00:00,  4.26it/s]\n"
     ]
    },
    {
     "name": "stdout",
     "output_type": "stream",
     "text": [
      "[13] Train loss: 0.1634205098\n"
     ]
    },
    {
     "name": "stderr",
     "output_type": "stream",
     "text": [
      "100%|██████████| 16/16 [00:03<00:00,  4.20it/s]\n"
     ]
    },
    {
     "name": "stdout",
     "output_type": "stream",
     "text": [
      "Vail set: Loss: 1.1531, Accuracy: 124/181 ( 69%)\n",
      "\n"
     ]
    },
    {
     "name": "stderr",
     "output_type": "stream",
     "text": [
      "100%|██████████| 46/46 [00:10<00:00,  4.21it/s]\n"
     ]
    },
    {
     "name": "stdout",
     "output_type": "stream",
     "text": [
      "[14] Train loss: 0.1529162848\n"
     ]
    },
    {
     "name": "stderr",
     "output_type": "stream",
     "text": [
      "100%|██████████| 16/16 [00:03<00:00,  4.32it/s]\n"
     ]
    },
    {
     "name": "stdout",
     "output_type": "stream",
     "text": [
      "Vail set: Loss: 1.0181, Accuracy: 133/181 ( 73%)\n",
      "\n"
     ]
    },
    {
     "name": "stderr",
     "output_type": "stream",
     "text": [
      "100%|██████████| 46/46 [00:11<00:00,  4.07it/s]\n"
     ]
    },
    {
     "name": "stdout",
     "output_type": "stream",
     "text": [
      "[15] Train loss: 0.0724304443\n"
     ]
    },
    {
     "name": "stderr",
     "output_type": "stream",
     "text": [
      "100%|██████████| 16/16 [00:03<00:00,  4.36it/s]\n"
     ]
    },
    {
     "name": "stdout",
     "output_type": "stream",
     "text": [
      "Vail set: Loss: 1.0809, Accuracy: 133/181 ( 73%)\n",
      "\n"
     ]
    },
    {
     "name": "stderr",
     "output_type": "stream",
     "text": [
      "100%|██████████| 46/46 [00:10<00:00,  4.22it/s]\n"
     ]
    },
    {
     "name": "stdout",
     "output_type": "stream",
     "text": [
      "[16] Train loss: 0.0464973330\n"
     ]
    },
    {
     "name": "stderr",
     "output_type": "stream",
     "text": [
      "100%|██████████| 16/16 [00:03<00:00,  4.33it/s]\n"
     ]
    },
    {
     "name": "stdout",
     "output_type": "stream",
     "text": [
      "Vail set: Loss: 2.5569, Accuracy: 113/181 ( 62%)\n",
      "\n"
     ]
    },
    {
     "name": "stderr",
     "output_type": "stream",
     "text": [
      "100%|██████████| 46/46 [00:11<00:00,  3.96it/s]\n"
     ]
    },
    {
     "name": "stdout",
     "output_type": "stream",
     "text": [
      "[17] Train loss: 0.1819567370\n"
     ]
    },
    {
     "name": "stderr",
     "output_type": "stream",
     "text": [
      "100%|██████████| 16/16 [00:03<00:00,  4.33it/s]\n"
     ]
    },
    {
     "name": "stdout",
     "output_type": "stream",
     "text": [
      "Vail set: Loss: 0.9996, Accuracy: 135/181 ( 75%)\n",
      "\n"
     ]
    },
    {
     "name": "stderr",
     "output_type": "stream",
     "text": [
      "100%|██████████| 46/46 [00:10<00:00,  4.18it/s]\n"
     ]
    },
    {
     "name": "stdout",
     "output_type": "stream",
     "text": [
      "[18] Train loss: 0.0432048497\n"
     ]
    },
    {
     "name": "stderr",
     "output_type": "stream",
     "text": [
      "100%|██████████| 16/16 [00:03<00:00,  4.46it/s]\n"
     ]
    },
    {
     "name": "stdout",
     "output_type": "stream",
     "text": [
      "Vail set: Loss: 1.0968, Accuracy: 135/181 ( 75%)\n",
      "\n"
     ]
    },
    {
     "name": "stderr",
     "output_type": "stream",
     "text": [
      "100%|██████████| 46/46 [00:10<00:00,  4.19it/s]\n"
     ]
    },
    {
     "name": "stdout",
     "output_type": "stream",
     "text": [
      "[19] Train loss: 0.0174089005\n"
     ]
    },
    {
     "name": "stderr",
     "output_type": "stream",
     "text": [
      "100%|██████████| 16/16 [00:03<00:00,  4.37it/s]\n"
     ]
    },
    {
     "name": "stdout",
     "output_type": "stream",
     "text": [
      "Vail set: Loss: 1.1772, Accuracy: 134/181 ( 74%)\n",
      "\n"
     ]
    },
    {
     "name": "stderr",
     "output_type": "stream",
     "text": [
      "100%|██████████| 46/46 [00:11<00:00,  4.17it/s]\n"
     ]
    },
    {
     "name": "stdout",
     "output_type": "stream",
     "text": [
      "[20] Train loss: 0.0045090342\n"
     ]
    },
    {
     "name": "stderr",
     "output_type": "stream",
     "text": [
      "100%|██████████| 16/16 [00:03<00:00,  4.40it/s]\n"
     ]
    },
    {
     "name": "stdout",
     "output_type": "stream",
     "text": [
      "Vail set: Loss: 1.2959, Accuracy: 134/181 ( 74%)\n",
      "\n"
     ]
    },
    {
     "name": "stderr",
     "output_type": "stream",
     "text": [
      "100%|██████████| 46/46 [00:10<00:00,  4.19it/s]\n"
     ]
    },
    {
     "name": "stdout",
     "output_type": "stream",
     "text": [
      "[21] Train loss: 0.0034624173\n"
     ]
    },
    {
     "name": "stderr",
     "output_type": "stream",
     "text": [
      "100%|██████████| 16/16 [00:03<00:00,  4.33it/s]\n"
     ]
    },
    {
     "name": "stdout",
     "output_type": "stream",
     "text": [
      "Vail set: Loss: 1.2342, Accuracy: 138/181 ( 76%)\n",
      "\n"
     ]
    },
    {
     "name": "stderr",
     "output_type": "stream",
     "text": [
      "100%|██████████| 46/46 [00:11<00:00,  4.11it/s]\n"
     ]
    },
    {
     "name": "stdout",
     "output_type": "stream",
     "text": [
      "[22] Train loss: 0.0018511205\n"
     ]
    },
    {
     "name": "stderr",
     "output_type": "stream",
     "text": [
      "100%|██████████| 16/16 [00:03<00:00,  4.43it/s]\n"
     ]
    },
    {
     "name": "stdout",
     "output_type": "stream",
     "text": [
      "Vail set: Loss: 1.2655, Accuracy: 136/181 ( 75%)\n",
      "\n"
     ]
    },
    {
     "name": "stderr",
     "output_type": "stream",
     "text": [
      "100%|██████████| 46/46 [00:10<00:00,  4.19it/s]\n"
     ]
    },
    {
     "name": "stdout",
     "output_type": "stream",
     "text": [
      "[23] Train loss: 0.0014090996\n"
     ]
    },
    {
     "name": "stderr",
     "output_type": "stream",
     "text": [
      "100%|██████████| 16/16 [00:03<00:00,  4.34it/s]\n"
     ]
    },
    {
     "name": "stdout",
     "output_type": "stream",
     "text": [
      "Vail set: Loss: 1.2700, Accuracy: 137/181 ( 76%)\n",
      "\n"
     ]
    },
    {
     "name": "stderr",
     "output_type": "stream",
     "text": [
      "100%|██████████| 46/46 [00:10<00:00,  4.18it/s]\n"
     ]
    },
    {
     "name": "stdout",
     "output_type": "stream",
     "text": [
      "[24] Train loss: 0.0011567516\n"
     ]
    },
    {
     "name": "stderr",
     "output_type": "stream",
     "text": [
      "100%|██████████| 16/16 [00:03<00:00,  4.39it/s]\n"
     ]
    },
    {
     "name": "stdout",
     "output_type": "stream",
     "text": [
      "Vail set: Loss: 1.2873, Accuracy: 138/181 ( 76%)\n",
      "\n"
     ]
    },
    {
     "name": "stderr",
     "output_type": "stream",
     "text": [
      "100%|██████████| 46/46 [00:10<00:00,  4.22it/s]\n"
     ]
    },
    {
     "name": "stdout",
     "output_type": "stream",
     "text": [
      "[25] Train loss: 0.0010316136\n"
     ]
    },
    {
     "name": "stderr",
     "output_type": "stream",
     "text": [
      "100%|██████████| 16/16 [00:03<00:00,  4.38it/s]\n"
     ]
    },
    {
     "name": "stdout",
     "output_type": "stream",
     "text": [
      "Vail set: Loss: 1.3132, Accuracy: 137/181 ( 76%)\n",
      "\n"
     ]
    },
    {
     "name": "stderr",
     "output_type": "stream",
     "text": [
      "100%|██████████| 46/46 [00:11<00:00,  4.15it/s]\n"
     ]
    },
    {
     "name": "stdout",
     "output_type": "stream",
     "text": [
      "[26] Train loss: 0.0008673282\n"
     ]
    },
    {
     "name": "stderr",
     "output_type": "stream",
     "text": [
      "100%|██████████| 16/16 [00:03<00:00,  4.40it/s]\n"
     ]
    },
    {
     "name": "stdout",
     "output_type": "stream",
     "text": [
      "Vail set: Loss: 1.3232, Accuracy: 137/181 ( 76%)\n",
      "\n"
     ]
    },
    {
     "name": "stderr",
     "output_type": "stream",
     "text": [
      "100%|██████████| 46/46 [00:10<00:00,  4.19it/s]\n"
     ]
    },
    {
     "name": "stdout",
     "output_type": "stream",
     "text": [
      "[27] Train loss: 0.0007395855\n"
     ]
    },
    {
     "name": "stderr",
     "output_type": "stream",
     "text": [
      "100%|██████████| 16/16 [00:03<00:00,  4.40it/s]\n"
     ]
    },
    {
     "name": "stdout",
     "output_type": "stream",
     "text": [
      "Vail set: Loss: 1.3377, Accuracy: 137/181 ( 76%)\n",
      "\n"
     ]
    },
    {
     "name": "stderr",
     "output_type": "stream",
     "text": [
      "100%|██████████| 46/46 [00:11<00:00,  4.18it/s]\n"
     ]
    },
    {
     "name": "stdout",
     "output_type": "stream",
     "text": [
      "[28] Train loss: 0.0007463665\n"
     ]
    },
    {
     "name": "stderr",
     "output_type": "stream",
     "text": [
      "100%|██████████| 16/16 [00:03<00:00,  4.32it/s]\n"
     ]
    },
    {
     "name": "stdout",
     "output_type": "stream",
     "text": [
      "Vail set: Loss: 1.3407, Accuracy: 138/181 ( 76%)\n",
      "\n"
     ]
    },
    {
     "name": "stderr",
     "output_type": "stream",
     "text": [
      "100%|██████████| 46/46 [00:11<00:00,  4.12it/s]\n"
     ]
    },
    {
     "name": "stdout",
     "output_type": "stream",
     "text": [
      "[29] Train loss: 0.0006120040\n"
     ]
    },
    {
     "name": "stderr",
     "output_type": "stream",
     "text": [
      "100%|██████████| 16/16 [00:03<00:00,  4.40it/s]\n"
     ]
    },
    {
     "name": "stdout",
     "output_type": "stream",
     "text": [
      "Vail set: Loss: 1.3580, Accuracy: 138/181 ( 76%)\n",
      "\n"
     ]
    },
    {
     "name": "stderr",
     "output_type": "stream",
     "text": [
      "100%|██████████| 46/46 [00:11<00:00,  4.02it/s]\n"
     ]
    },
    {
     "name": "stdout",
     "output_type": "stream",
     "text": [
      "[30] Train loss: 0.0005512067\n"
     ]
    },
    {
     "name": "stderr",
     "output_type": "stream",
     "text": [
      "100%|██████████| 16/16 [00:03<00:00,  4.39it/s]\n"
     ]
    },
    {
     "name": "stdout",
     "output_type": "stream",
     "text": [
      "Vail set: Loss: 1.3700, Accuracy: 138/181 ( 76%)\n",
      "\n"
     ]
    },
    {
     "name": "stderr",
     "output_type": "stream",
     "text": [
      "100%|██████████| 46/46 [00:11<00:00,  4.13it/s]\n"
     ]
    },
    {
     "name": "stdout",
     "output_type": "stream",
     "text": [
      "[31] Train loss: 0.0005259228\n"
     ]
    },
    {
     "name": "stderr",
     "output_type": "stream",
     "text": [
      "100%|██████████| 16/16 [00:03<00:00,  4.29it/s]\n"
     ]
    },
    {
     "name": "stdout",
     "output_type": "stream",
     "text": [
      "Vail set: Loss: 1.3840, Accuracy: 138/181 ( 76%)\n",
      "\n"
     ]
    },
    {
     "name": "stderr",
     "output_type": "stream",
     "text": [
      "100%|██████████| 46/46 [00:11<00:00,  4.12it/s]\n"
     ]
    },
    {
     "name": "stdout",
     "output_type": "stream",
     "text": [
      "[32] Train loss: 0.0004658242\n"
     ]
    },
    {
     "name": "stderr",
     "output_type": "stream",
     "text": [
      "100%|██████████| 16/16 [00:03<00:00,  4.37it/s]\n"
     ]
    },
    {
     "name": "stdout",
     "output_type": "stream",
     "text": [
      "Vail set: Loss: 1.3937, Accuracy: 138/181 ( 76%)\n",
      "\n"
     ]
    },
    {
     "name": "stderr",
     "output_type": "stream",
     "text": [
      "100%|██████████| 46/46 [00:11<00:00,  4.16it/s]\n"
     ]
    },
    {
     "name": "stdout",
     "output_type": "stream",
     "text": [
      "[33] Train loss: 0.0004287178\n"
     ]
    },
    {
     "name": "stderr",
     "output_type": "stream",
     "text": [
      "100%|██████████| 16/16 [00:03<00:00,  4.32it/s]\n"
     ]
    },
    {
     "name": "stdout",
     "output_type": "stream",
     "text": [
      "Vail set: Loss: 1.4016, Accuracy: 138/181 ( 76%)\n",
      "\n"
     ]
    },
    {
     "name": "stderr",
     "output_type": "stream",
     "text": [
      "100%|██████████| 46/46 [00:11<00:00,  4.06it/s]\n"
     ]
    },
    {
     "name": "stdout",
     "output_type": "stream",
     "text": [
      "[34] Train loss: 0.0004007751\n"
     ]
    },
    {
     "name": "stderr",
     "output_type": "stream",
     "text": [
      "100%|██████████| 16/16 [00:03<00:00,  4.39it/s]\n"
     ]
    },
    {
     "name": "stdout",
     "output_type": "stream",
     "text": [
      "Vail set: Loss: 1.4118, Accuracy: 138/181 ( 76%)\n",
      "\n"
     ]
    },
    {
     "name": "stderr",
     "output_type": "stream",
     "text": [
      "100%|██████████| 46/46 [00:11<00:00,  4.17it/s]\n"
     ]
    },
    {
     "name": "stdout",
     "output_type": "stream",
     "text": [
      "[35] Train loss: 0.0003822863\n"
     ]
    },
    {
     "name": "stderr",
     "output_type": "stream",
     "text": [
      "100%|██████████| 16/16 [00:03<00:00,  4.36it/s]\n"
     ]
    },
    {
     "name": "stdout",
     "output_type": "stream",
     "text": [
      "Vail set: Loss: 1.4218, Accuracy: 138/181 ( 76%)\n",
      "\n"
     ]
    },
    {
     "name": "stderr",
     "output_type": "stream",
     "text": [
      "100%|██████████| 46/46 [00:10<00:00,  4.22it/s]\n"
     ]
    },
    {
     "name": "stdout",
     "output_type": "stream",
     "text": [
      "[36] Train loss: 0.0003532141\n"
     ]
    },
    {
     "name": "stderr",
     "output_type": "stream",
     "text": [
      "100%|██████████| 16/16 [00:03<00:00,  4.39it/s]\n"
     ]
    },
    {
     "name": "stdout",
     "output_type": "stream",
     "text": [
      "Vail set: Loss: 1.4275, Accuracy: 138/181 ( 76%)\n",
      "\n"
     ]
    },
    {
     "name": "stderr",
     "output_type": "stream",
     "text": [
      "100%|██████████| 46/46 [00:10<00:00,  4.27it/s]\n"
     ]
    },
    {
     "name": "stdout",
     "output_type": "stream",
     "text": [
      "[37] Train loss: 0.0003342570\n"
     ]
    },
    {
     "name": "stderr",
     "output_type": "stream",
     "text": [
      "100%|██████████| 16/16 [00:03<00:00,  4.45it/s]\n"
     ]
    },
    {
     "name": "stdout",
     "output_type": "stream",
     "text": [
      "Vail set: Loss: 1.4355, Accuracy: 138/181 ( 76%)\n",
      "\n"
     ]
    },
    {
     "name": "stderr",
     "output_type": "stream",
     "text": [
      "100%|██████████| 46/46 [00:11<00:00,  4.10it/s]\n"
     ]
    },
    {
     "name": "stdout",
     "output_type": "stream",
     "text": [
      "[38] Train loss: 0.0003183360\n"
     ]
    },
    {
     "name": "stderr",
     "output_type": "stream",
     "text": [
      "100%|██████████| 16/16 [00:03<00:00,  4.35it/s]\n"
     ]
    },
    {
     "name": "stdout",
     "output_type": "stream",
     "text": [
      "Vail set: Loss: 1.4417, Accuracy: 138/181 ( 76%)\n",
      "\n"
     ]
    },
    {
     "name": "stderr",
     "output_type": "stream",
     "text": [
      "100%|██████████| 46/46 [00:10<00:00,  4.18it/s]\n"
     ]
    },
    {
     "name": "stdout",
     "output_type": "stream",
     "text": [
      "[39] Train loss: 0.0003136037\n"
     ]
    },
    {
     "name": "stderr",
     "output_type": "stream",
     "text": [
      "100%|██████████| 16/16 [00:03<00:00,  4.38it/s]\n"
     ]
    },
    {
     "name": "stdout",
     "output_type": "stream",
     "text": [
      "Vail set: Loss: 1.4452, Accuracy: 138/181 ( 76%)\n",
      "\n"
     ]
    },
    {
     "name": "stderr",
     "output_type": "stream",
     "text": [
      "100%|██████████| 46/46 [00:11<00:00,  4.17it/s]\n"
     ]
    },
    {
     "name": "stdout",
     "output_type": "stream",
     "text": [
      "[40] Train loss: 0.0003464403\n"
     ]
    },
    {
     "name": "stderr",
     "output_type": "stream",
     "text": [
      "100%|██████████| 16/16 [00:03<00:00,  4.03it/s]\n"
     ]
    },
    {
     "name": "stdout",
     "output_type": "stream",
     "text": [
      "Vail set: Loss: 1.4590, Accuracy: 138/181 ( 76%)\n",
      "\n"
     ]
    },
    {
     "name": "stderr",
     "output_type": "stream",
     "text": [
      "100%|██████████| 46/46 [00:11<00:00,  3.93it/s]\n"
     ]
    },
    {
     "name": "stdout",
     "output_type": "stream",
     "text": [
      "[41] Train loss: 0.0002738492\n"
     ]
    },
    {
     "name": "stderr",
     "output_type": "stream",
     "text": [
      "100%|██████████| 16/16 [00:03<00:00,  4.13it/s]\n"
     ]
    },
    {
     "name": "stdout",
     "output_type": "stream",
     "text": [
      "Vail set: Loss: 1.4606, Accuracy: 139/181 ( 77%)\n",
      "\n"
     ]
    },
    {
     "name": "stderr",
     "output_type": "stream",
     "text": [
      "100%|██████████| 46/46 [00:11<00:00,  3.99it/s]\n"
     ]
    },
    {
     "name": "stdout",
     "output_type": "stream",
     "text": [
      "[42] Train loss: 0.0002573167\n"
     ]
    },
    {
     "name": "stderr",
     "output_type": "stream",
     "text": [
      "100%|██████████| 16/16 [00:03<00:00,  4.18it/s]\n"
     ]
    },
    {
     "name": "stdout",
     "output_type": "stream",
     "text": [
      "Vail set: Loss: 1.4694, Accuracy: 138/181 ( 76%)\n",
      "\n"
     ]
    },
    {
     "name": "stderr",
     "output_type": "stream",
     "text": [
      "100%|██████████| 46/46 [00:11<00:00,  4.04it/s]\n"
     ]
    },
    {
     "name": "stdout",
     "output_type": "stream",
     "text": [
      "[43] Train loss: 0.0002462039\n"
     ]
    },
    {
     "name": "stderr",
     "output_type": "stream",
     "text": [
      "100%|██████████| 16/16 [00:03<00:00,  4.25it/s]\n"
     ]
    },
    {
     "name": "stdout",
     "output_type": "stream",
     "text": [
      "Vail set: Loss: 1.4751, Accuracy: 138/181 ( 76%)\n",
      "\n"
     ]
    },
    {
     "name": "stderr",
     "output_type": "stream",
     "text": [
      "100%|██████████| 46/46 [00:11<00:00,  4.05it/s]\n"
     ]
    },
    {
     "name": "stdout",
     "output_type": "stream",
     "text": [
      "[44] Train loss: 0.0002355154\n"
     ]
    },
    {
     "name": "stderr",
     "output_type": "stream",
     "text": [
      "100%|██████████| 16/16 [00:03<00:00,  4.17it/s]\n"
     ]
    },
    {
     "name": "stdout",
     "output_type": "stream",
     "text": [
      "Vail set: Loss: 1.4815, Accuracy: 138/181 ( 76%)\n",
      "\n"
     ]
    },
    {
     "name": "stderr",
     "output_type": "stream",
     "text": [
      "100%|██████████| 46/46 [00:11<00:00,  4.07it/s]\n"
     ]
    },
    {
     "name": "stdout",
     "output_type": "stream",
     "text": [
      "[45] Train loss: 0.0002261060\n"
     ]
    },
    {
     "name": "stderr",
     "output_type": "stream",
     "text": [
      "100%|██████████| 16/16 [00:03<00:00,  4.41it/s]\n"
     ]
    },
    {
     "name": "stdout",
     "output_type": "stream",
     "text": [
      "Vail set: Loss: 1.4869, Accuracy: 139/181 ( 77%)\n",
      "\n"
     ]
    },
    {
     "name": "stderr",
     "output_type": "stream",
     "text": [
      "100%|██████████| 46/46 [00:11<00:00,  4.17it/s]\n"
     ]
    },
    {
     "name": "stdout",
     "output_type": "stream",
     "text": [
      "[46] Train loss: 0.0002194474\n"
     ]
    },
    {
     "name": "stderr",
     "output_type": "stream",
     "text": [
      "100%|██████████| 16/16 [00:03<00:00,  4.37it/s]\n"
     ]
    },
    {
     "name": "stdout",
     "output_type": "stream",
     "text": [
      "Vail set: Loss: 1.4924, Accuracy: 138/181 ( 76%)\n",
      "\n"
     ]
    },
    {
     "name": "stderr",
     "output_type": "stream",
     "text": [
      "100%|██████████| 46/46 [00:10<00:00,  4.25it/s]\n"
     ]
    },
    {
     "name": "stdout",
     "output_type": "stream",
     "text": [
      "[47] Train loss: 0.0002088574\n"
     ]
    },
    {
     "name": "stderr",
     "output_type": "stream",
     "text": [
      "100%|██████████| 16/16 [00:03<00:00,  4.34it/s]\n"
     ]
    },
    {
     "name": "stdout",
     "output_type": "stream",
     "text": [
      "Vail set: Loss: 1.4972, Accuracy: 138/181 ( 76%)\n",
      "\n"
     ]
    },
    {
     "name": "stderr",
     "output_type": "stream",
     "text": [
      "100%|██████████| 46/46 [00:10<00:00,  4.21it/s]\n"
     ]
    },
    {
     "name": "stdout",
     "output_type": "stream",
     "text": [
      "[48] Train loss: 0.0002030509\n"
     ]
    },
    {
     "name": "stderr",
     "output_type": "stream",
     "text": [
      "100%|██████████| 16/16 [00:03<00:00,  4.38it/s]\n"
     ]
    },
    {
     "name": "stdout",
     "output_type": "stream",
     "text": [
      "Vail set: Loss: 1.5016, Accuracy: 138/181 ( 76%)\n",
      "\n"
     ]
    },
    {
     "name": "stderr",
     "output_type": "stream",
     "text": [
      "100%|██████████| 46/46 [00:10<00:00,  4.24it/s]\n"
     ]
    },
    {
     "name": "stdout",
     "output_type": "stream",
     "text": [
      "[49] Train loss: 0.0001934958\n"
     ]
    },
    {
     "name": "stderr",
     "output_type": "stream",
     "text": [
      "100%|██████████| 16/16 [00:03<00:00,  4.36it/s]\n"
     ]
    },
    {
     "name": "stdout",
     "output_type": "stream",
     "text": [
      "Vail set: Loss: 1.5077, Accuracy: 138/181 ( 76%)\n",
      "\n"
     ]
    },
    {
     "name": "stderr",
     "output_type": "stream",
     "text": [
      "100%|██████████| 46/46 [00:11<00:00,  4.10it/s]\n"
     ]
    },
    {
     "name": "stdout",
     "output_type": "stream",
     "text": [
      "[50] Train loss: 0.0001870991\n"
     ]
    },
    {
     "name": "stderr",
     "output_type": "stream",
     "text": [
      "100%|██████████| 16/16 [00:03<00:00,  4.28it/s]"
     ]
    },
    {
     "name": "stdout",
     "output_type": "stream",
     "text": [
      "Vail set: Loss: 1.5131, Accuracy: 138/181 ( 76%)\n",
      "\n"
     ]
    },
    {
     "name": "stderr",
     "output_type": "stream",
     "text": [
      "\n"
     ]
    }
   ],
   "source": [
    "train(model, optimizer, train_loader, scheduler, device)"
   ]
  },
  {
   "cell_type": "markdown",
   "id": "980c4c1c-3f54-4c38-a379-9e325c4fd8f6",
   "metadata": {},
   "source": [
    "에포크가 12일때 Vaildation Accuracy가 77%로 best_model에 선정되어 저장되었습니다."
   ]
  },
  {
   "cell_type": "markdown",
   "id": "2ec55077-1b80-492c-b6d1-a302341ff955",
   "metadata": {},
   "source": [
    "## 3. 추론하기\n",
    "\n",
    "이제 학습된 best_model을 가지고 test 셋의 라벨을 추론해보도록 하겠습니다."
   ]
  },
  {
   "cell_type": "code",
   "execution_count": 28,
   "id": "4131709d-7cea-46e5-91f7-98cec15d46e1",
   "metadata": {},
   "outputs": [],
   "source": [
    "def predict(model, test_loader, device):\n",
    "    model.eval()\n",
    "    model_pred = []\n",
    "    with torch.no_grad():\n",
    "        for img in tqdm(iter(test_loader)):\n",
    "            img = img.to(device)\n",
    "\n",
    "            pred_logit = model(img)\n",
    "            pred_logit = pred_logit.argmax(dim=1, keepdim=True).squeeze(1)\n",
    "\n",
    "            model_pred.extend(pred_logit.tolist())\n",
    "    return model_pred"
   ]
  },
  {
   "cell_type": "code",
   "execution_count": 29,
   "id": "2e7a1a49-2380-44e2-94f3-a5f16fbe3fea",
   "metadata": {},
   "outputs": [
    {
     "name": "stderr",
     "output_type": "stream",
     "text": [
      "100%|██████████| 17/17 [00:04<00:00,  4.18it/s]\n"
     ]
    },
    {
     "data": {
      "text/plain": [
       "[7, 1, 9, 7, 6]"
      ]
     },
     "execution_count": 29,
     "metadata": {},
     "output_type": "execute_result"
    }
   ],
   "source": [
    "test_dataset = CustomDataset(test_img_path, None, train_mode=False, transforms=test_transform)\n",
    "test_loader = DataLoader(test_dataset, batch_size = CFG['BATCH_SIZE'], shuffle=False, num_workers=0)\n",
    "\n",
    "# Validation Accuracy가 가장 뛰어난 모델을 불러옵니다.\n",
    "checkpoint = torch.load('data/save_data/saved/best_model.pth')\n",
    "model = CNNclassification().to(device)\n",
    "model.load_state_dict(checkpoint)\n",
    "\n",
    "# Inference\n",
    "preds = predict(model, test_loader, device)\n",
    "preds[0:5]"
   ]
  },
  {
   "cell_type": "markdown",
   "id": "4b53c22b-5af2-4595-b026-a0904329e1e0",
   "metadata": {},
   "source": [
    "값이 배열안에 정상적으로 잘 들어간 것을 확인할 수 있습니다."
   ]
  },
  {
   "cell_type": "markdown",
   "id": "dcdc991d-a482-4d2f-bf27-4eb821a9aa16",
   "metadata": {},
   "source": [
    "# IV. 데이콘 제출하기\n",
    "\n",
    "## 1. submission 파일 생성\n",
    "\n",
    "이제 예측한 값을 **sample_submission.csv**에 넣어 제출용 파일을 생성해봅시다.            \n",
    "\n",
    "제출한 뒤 리더보드를 통해 결과를 확인합시다."
   ]
  },
  {
   "cell_type": "code",
   "execution_count": 30,
   "id": "14dd5ca6-d7a3-4acd-b212-ce783624dbde",
   "metadata": {},
   "outputs": [],
   "source": [
    "submission = pd.read_csv('data/save_data/sample_submission.csv')\n",
    "submission['label'] = preds"
   ]
  },
  {
   "cell_type": "code",
   "execution_count": 31,
   "id": "f1d80e8f-f9c9-4025-8017-1a16e5d3d769",
   "metadata": {},
   "outputs": [
    {
     "data": {
      "text/html": [
       "<div>\n",
       "<style scoped>\n",
       "    .dataframe tbody tr th:only-of-type {\n",
       "        vertical-align: middle;\n",
       "    }\n",
       "\n",
       "    .dataframe tbody tr th {\n",
       "        vertical-align: top;\n",
       "    }\n",
       "\n",
       "    .dataframe thead th {\n",
       "        text-align: right;\n",
       "    }\n",
       "</style>\n",
       "<table border=\"1\" class=\"dataframe\">\n",
       "  <thead>\n",
       "    <tr style=\"text-align: right;\">\n",
       "      <th></th>\n",
       "      <th>file_name</th>\n",
       "      <th>label</th>\n",
       "    </tr>\n",
       "  </thead>\n",
       "  <tbody>\n",
       "    <tr>\n",
       "      <th>0</th>\n",
       "      <td>001.PNG</td>\n",
       "      <td>7</td>\n",
       "    </tr>\n",
       "    <tr>\n",
       "      <th>1</th>\n",
       "      <td>002.PNG</td>\n",
       "      <td>1</td>\n",
       "    </tr>\n",
       "    <tr>\n",
       "      <th>2</th>\n",
       "      <td>003.PNG</td>\n",
       "      <td>9</td>\n",
       "    </tr>\n",
       "    <tr>\n",
       "      <th>3</th>\n",
       "      <td>004.PNG</td>\n",
       "      <td>7</td>\n",
       "    </tr>\n",
       "    <tr>\n",
       "      <th>4</th>\n",
       "      <td>005.PNG</td>\n",
       "      <td>6</td>\n",
       "    </tr>\n",
       "  </tbody>\n",
       "</table>\n",
       "</div>"
      ],
      "text/plain": [
       "  file_name  label\n",
       "0   001.PNG      7\n",
       "1   002.PNG      1\n",
       "2   003.PNG      9\n",
       "3   004.PNG      7\n",
       "4   005.PNG      6"
      ]
     },
     "execution_count": 31,
     "metadata": {},
     "output_type": "execute_result"
    }
   ],
   "source": [
    "submission.head()"
   ]
  },
  {
   "cell_type": "markdown",
   "id": "29ab6ff3-c3a8-4bb1-aefb-54e7c7aa9581",
   "metadata": {},
   "source": [
    "submission을 submit2란 이름으로 csv 파일로 저장합니다.   \n",
    "\n",
    "index=False란 추가적인 id를 부여할 필요가 없다는 뜻입니다.   \n",
    "\n",
    "정확한 채점을 위해 꼭 index=False를 넣어주세요."
   ]
  },
  {
   "cell_type": "code",
   "execution_count": null,
   "id": "2aefefd5-2851-46da-94c5-7fd09a634755",
   "metadata": {},
   "outputs": [],
   "source": [
    "submission.to_csv('data/save_data/submission/submission1.csv', index=False)"
   ]
  },
  {
   "cell_type": "markdown",
   "id": "992fa3af-72c9-4d26-a43a-0aac53cf0442",
   "metadata": {},
   "source": [
    "## 2. 데이콘 페이지 제출\n",
    "다음으로, 실제 데이콘 홈페이지에서 제출해보도록 하겠습니다.\n",
    "\n",
    "이 과정을 통해 우리의 모델이 목표로 하는 데이터에 대해 어느 정도의 성능을 가지는지, 다른 사람들은 어느 정도의 성능을 얻었는지 확인할 수 있습니다."
   ]
  },
  {
   "cell_type": "markdown",
   "id": "8b15415f-4d8f-4dab-b5ac-db88be707bc8",
   "metadata": {},
   "source": [
    "<img src='https://user-images.githubusercontent.com/101694546/182986386-502b88aa-8d43-40ea-b831-afe338f9af86.png'>\n",
    "\n",
    "1. 먼저 대회 페이지에서 제출 탭의 버튼을 누르면 파일 업로드 화면으로 전환됩니다.\n",
    "\n",
    "2. 전환된 화면에서 서류모양 아이콘을 클릭하여 제출할 파일을 선택하거나 파일을 마우스로 끌어와 서류모양 아이콘 위에 던져두면 파일을 업로드 할 수 있습니다.\n",
    "\n",
    "3. 업로드가 완료되었다면 까만색 제출 버튼을 클릭합니다."
   ]
  },
  {
   "cell_type": "markdown",
   "id": "41ac9293-af62-49b5-a42b-a28c2f8cc4da",
   "metadata": {},
   "source": [
    "# V. 마치며\n",
    "\n",
    "<img src='https://user-images.githubusercontent.com/101694546/182986027-b69e1fc2-d6ab-49fa-aa9c-0b796c60d4eb.png'>\n",
    "\n",
    "축하합니다! 데이콘 베이직 컴퓨터 비전을 완료하셨습니다!  \n",
    "\n",
    "이번 첫번째 Baseline 통해 어떤 방식으로 분석을 진행해야겠다는 인사이트를 얻으셨으면 좋겠습니다.\n",
    "\n",
    "여러분도 여러분만의 분석을 진행하시고 **코드공유**에 올려주세요!\n",
    "\n",
    "데이콘 스쿨 장학금, 스타벅스 기프티콘, 데이콘 굿즈 등 특별한 선물이 기다립니다!"
   ]
  }
 ],
 "metadata": {
  "kernelspec": {
   "display_name": "sesang",
   "language": "python",
   "name": "sesang"
  },
  "language_info": {
   "codemirror_mode": {
    "name": "ipython",
    "version": 3
   },
   "file_extension": ".py",
   "mimetype": "text/x-python",
   "name": "python",
   "nbconvert_exporter": "python",
   "pygments_lexer": "ipython3",
   "version": "3.10.5"
  }
 },
 "nbformat": 4,
 "nbformat_minor": 5
}
