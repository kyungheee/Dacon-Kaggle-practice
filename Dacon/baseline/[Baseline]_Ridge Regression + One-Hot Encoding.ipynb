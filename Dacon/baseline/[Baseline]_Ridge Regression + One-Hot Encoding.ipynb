{
 "cells": [
  {
   "cell_type": "markdown",
   "id": "a57a5a2d",
   "metadata": {},
   "source": [
    "#### 이번 대회에서는 범주형 변수 전처리를 위해 One-Hot Encoding과 for문을 사용했습니다.\n",
    "\n",
    "#### 이는 train data로 fit한 One-Hot Encoder로 test data를 transform할 경우,\n",
    "#### train data에는 속하지 않은 데이터가 test data에 있을 가능성이 있어 에러가 발생할 수 있기 때문입니다.\n",
    "\n",
    "#### 이를 방지하기 위해 예외적인 상황에 대처할 수 있는 코드를 삽입해서 이중 for문을 작성했습니다.\n",
    "#### 참고해 주시길 바랍니다."
   ]
  },
  {
   "cell_type": "markdown",
   "id": "2cddb841",
   "metadata": {},
   "source": [
    "# Import"
   ]
  },
  {
   "cell_type": "code",
   "execution_count": 1,
   "id": "22da787b",
   "metadata": {},
   "outputs": [],
   "source": [
    "import pandas as pd\n",
    "import random\n",
    "import os\n",
    "import numpy as np\n",
    "\n",
    "from sklearn.preprocessing import OneHotEncoder\n",
    "from sklearn.linear_model import Ridge"
   ]
  },
  {
   "cell_type": "markdown",
   "id": "079ea5f6",
   "metadata": {},
   "source": [
    "# Fixed RandomSeed"
   ]
  },
  {
   "cell_type": "code",
   "execution_count": 2,
   "id": "90a9651d",
   "metadata": {},
   "outputs": [],
   "source": [
    "def seed_everything(seed):\n",
    "    random.seed(seed)\n",
    "    os.environ['PYTHONHASHSEED'] = str(seed)\n",
    "    np.random.seed(seed)\n",
    "\n",
    "seed_everything(42) # Seed 고정"
   ]
  },
  {
   "cell_type": "markdown",
   "id": "413664e3",
   "metadata": {},
   "source": [
    "# Data Load"
   ]
  },
  {
   "cell_type": "code",
   "execution_count": 4,
   "id": "22641ae7",
   "metadata": {},
   "outputs": [],
   "source": [
    "train_df = pd.read_csv('./train.csv')"
   ]
  },
  {
   "cell_type": "code",
   "execution_count": null,
   "id": "ac7af78a",
   "metadata": {},
   "outputs": [],
   "source": [
    "train_x = train_df.drop(columns=['ID', 'monthlyRent(us_dollar)'])\n",
    "train_y = train_df['monthlyRent(us_dollar)']"
   ]
  },
  {
   "cell_type": "code",
   "execution_count": null,
   "id": "becc4f5a",
   "metadata": {},
   "outputs": [],
   "source": [
    "test_x = pd.read_csv('./test.csv').drop(columns=['ID'])"
   ]
  },
  {
   "cell_type": "markdown",
   "id": "bd929026",
   "metadata": {},
   "source": [
    "# Data Pre-processing\n",
    "\n",
    "#### 범주형 변수는 크게 명목형 변수와 순서형 변수로 나눌 수 있습니다.\n",
    "#### 순서형 변수의 경우 그 순서대로 수치값을 레이블로 부여하여 간단히 수치화 할 수 있지만,\n",
    "#### 명목형 변수의 경우 값들의 순서 관계가 없어 수치 레이블링으로는 그 관계를 정확히 표현할 수 없습니다.\n",
    "#### 그렇기에 명목형 변수의 경우 값들 각각을 새로운 컬럼으로 만들고, 원래 해당하던 값에는 1을,\n",
    "#### 아닐 경우 0을 부여하는 One-Hot Encoding 방법이 존재합니다. "
   ]
  },
  {
   "cell_type": "code",
   "execution_count": null,
   "id": "b4655134",
   "metadata": {},
   "outputs": [],
   "source": [
    "# qualitative column one-hot encoding\n",
    "qual_col = ['propertyType','suburbName']\n",
    "ohe = OneHotEncoder(sparse=False)\n",
    "\n",
    "for i in qual_col:\n",
    "    train_x = pd.concat([train_x, pd.DataFrame(ohe.fit_transform(train_x[[i]]), columns=ohe.categories_[0])], axis=1)\n",
    "    \n",
    "    for qual_value in np.unique(test_x[i]): \n",
    "        if qual_value not in np.unique(ohe.categories_): \n",
    "            ohe.categories_ = np.append(ohe.categories_, qual_value)\n",
    "    # One Hot Encoder가 Test 데이터로부터 Fitting되는 것은 Data Leakage이므로, Test 데이터에는 Train 데이터로 Fitting된 One Hot Encoder로부터 transform만 수행되어야 합니다.\n",
    "    test_x = pd.concat([test_x, pd.DataFrame(ohe.transform(test_x[[i]]), columns=ohe.categories_[0])], axis=1)\n",
    "    \n",
    "train_x = train_x.drop(qual_col, axis=1)\n",
    "test_x = test_x.drop(qual_col, axis=1)\n",
    "print('Done.')"
   ]
  },
  {
   "cell_type": "markdown",
   "id": "34b4bc89",
   "metadata": {},
   "source": [
    "# Model Hyperparameter Setting\n",
    "\n",
    "#### 대부분의 모델들은 사람이 직접 설정할 수 있는 Hyperparameter를 가지고 있습니다.\n",
    "#### 이런 Hyperparameter에 어떤 값이 설정되는가에 따라 모델의 성능은 크게 차이나게 됩니다. \n",
    "#### 본 Baseline에서 제공한 Ridge Regression 모델에서는 alpha를 Hyperparameter로 제공했습니다. \n",
    "#### alpha는 모델의 규제항으로, 모델의 오버피팅을 방지하는 역할을 합니다.\n"
   ]
  },
  {
   "cell_type": "code",
   "execution_count": null,
   "id": "3a54bed3",
   "metadata": {},
   "outputs": [],
   "source": [
    "Model = Ridge(alpha=1.0) #alpha의 값을 바꿔 규제 정도를 조절할 수 있습니다."
   ]
  },
  {
   "cell_type": "markdown",
   "id": "e09a077f",
   "metadata": {},
   "source": [
    "# Model Fit"
   ]
  },
  {
   "cell_type": "code",
   "execution_count": null,
   "id": "5133499c",
   "metadata": {},
   "outputs": [],
   "source": [
    "Model.fit(train_x, train_y)\n",
    "print('Done.')"
   ]
  },
  {
   "cell_type": "markdown",
   "id": "a7ebd30a",
   "metadata": {},
   "source": [
    "# Prediction"
   ]
  },
  {
   "cell_type": "code",
   "execution_count": null,
   "id": "fcc36f0d",
   "metadata": {},
   "outputs": [],
   "source": [
    "preds = Model.predict(test_x)\n",
    "print('Done.')"
   ]
  },
  {
   "cell_type": "markdown",
   "id": "7cdeead7",
   "metadata": {},
   "source": [
    "# Submit"
   ]
  },
  {
   "cell_type": "code",
   "execution_count": null,
   "id": "27ec4297",
   "metadata": {},
   "outputs": [],
   "source": [
    "submit = pd.read_csv('./sample_submission.csv')"
   ]
  },
  {
   "cell_type": "code",
   "execution_count": null,
   "id": "9d5ca556",
   "metadata": {},
   "outputs": [],
   "source": [
    "submit['monthlyRent(us_dollar)'] = preds\n",
    "submit.head()"
   ]
  },
  {
   "cell_type": "code",
   "execution_count": null,
   "id": "3f9c083f",
   "metadata": {},
   "outputs": [],
   "source": [
    "submit.to_csv('./submit.csv', index=False)"
   ]
  }
 ],
 "metadata": {
  "kernelspec": {
   "display_name": "moonjong",
   "language": "python",
   "name": "moonjong"
  },
  "language_info": {
   "codemirror_mode": {
    "name": "ipython",
    "version": 3
   },
   "file_extension": ".py",
   "mimetype": "text/x-python",
   "name": "python",
   "nbconvert_exporter": "python",
   "pygments_lexer": "ipython3",
   "version": "3.8.13"
  }
 },
 "nbformat": 4,
 "nbformat_minor": 5
}
