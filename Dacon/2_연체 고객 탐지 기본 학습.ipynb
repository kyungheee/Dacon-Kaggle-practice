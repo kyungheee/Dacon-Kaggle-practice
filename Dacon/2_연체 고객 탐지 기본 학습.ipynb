{
  "cells": [
    {
      "cell_type": "markdown",
      "metadata": {
        "deletable": false,
        "pbl_cell_type": "markdown",
        "step_id": 5530,
        "step_number": 0,
        "tags": [],
        "trusted": true
      },
      "source": [
        "# 베이스라인 코드 해설"
      ]
    },
    {
      "cell_type": "markdown",
      "metadata": {
        "pbl_cell_type": "markdown",
        "step_id": 5543,
        "step_number": 1,
        "tags": [],
        "trusted": true
      },
      "source": [
        "## Fixed Random Seed\n",
        "seed 값에 의해 동일한 코드를 사용해도 결과가 다를 수 있기에, 동일한 결과를 위해 seed 값을 고정시킵니다"
      ]
    },
    {
      "cell_type": "code",
      "execution_count": 2,
      "metadata": {
        "pbl_cell_type": "code",
        "step_id": 5543,
        "step_number": 1,
        "trusted": true
      },
      "outputs": [],
      "source": [
        "import random\n",
        "import numpy as np\n",
        "import os\n",
        "\n",
        "def seed_everything(seed):\n",
        "    random.seed(seed)\n",
        "    os.environ['PYTHONHASHSEED'] = str(seed)\n",
        "    np.random.seed(seed)\n",
        "\n",
        "seed_number = 42\n",
        "seed_everything(seed_number)"
      ]
    },
    {
      "cell_type": "markdown",
      "metadata": {
        "pbl_cell_type": "markdown",
        "step_id": 5544,
        "step_number": 2,
        "tags": [],
        "trusted": true
      },
      "source": [
        "## 데이터 불러오기 및 확인\n",
        "train.csv, test.csv 파일을 로드하여 상위행을 출력해 봅시다"
      ]
    },
    {
      "cell_type": "code",
      "execution_count": null,
      "metadata": {
        "pbl_cell_type": "code",
        "step_id": 5544,
        "step_number": 2,
        "trusted": true
      },
      "outputs": [],
      "source": [
        "import pandas as pd\n",
        "\n",
        "train = pd.read_csv('train.csv') \n",
        "test = pd.read_csv('test.csv')\n",
        "\n",
        "display(train.head(3))\n",
        "display(test.head(3))"
      ]
    },
    {
      "cell_type": "markdown",
      "metadata": {
        "pbl_cell_type": "markdown",
        "step_id": 5545,
        "step_number": 3,
        "tags": [],
        "trusted": true
      },
      "source": [
        "## EDA : TARGET 확인하기\n",
        "예측 대상이 되는 TARGET이 어떤 값들로 구성되어 있는지 확인해 봅시다  "
      ]
    },
    {
      "cell_type": "code",
      "execution_count": 5,
      "metadata": {
        "pbl_cell_type": "code",
        "step_id": 5545,
        "step_number": 3,
        "trusted": true
      },
      "outputs": [
        {
          "data": {
            "image/png": "[encoded data removed]",
            "text/plain": [
              "<Figure size 400x400 with 1 Axes>"
            ]
          },
          "metadata": {},
          "output_type": "display_data"
        }
      ],
      "source": [
        "# 시각화 패키지 불러오기\n",
        "import seaborn as sns\n",
        "import matplotlib.pyplot as plt\n",
        "import matplotlib.font_manager as fm\n",
        "# 한글 폰트 설정하기\n",
        "fe = fm.FontEntry(fname = 'MaruBuri-Regular.otf', name = 'MaruBuri')\n",
        "fm.fontManager.ttflist.insert(0, fe)\n",
        "plt.rc('font', family='MaruBuri')\n",
        "\n",
        "plt.subplots(figsize = (4,4)) # 그림 크기 설정\n",
        "\n",
        "sns.histplot(train, x='TARGET')\n",
        "plt.title('신용카드 연체 여부 비율')\n",
        "plt.show()"
      ]
    },
    {
      "cell_type": "markdown",
      "metadata": {
        "pbl_cell_type": "markdown",
        "step_id": 5546,
        "step_number": 4,
        "trusted": true
      },
      "source": [
        "## 데이터 전처리 1 : Feature와 Label 설정\n",
        "모델에게 입력할 feature인 x와 label인 y를 구분해 봅시다  "
      ]
    },
    {
      "cell_type": "code",
      "execution_count": 7,
      "metadata": {
        "pbl_cell_type": "code",
        "step_id": 5546,
        "step_number": 4,
        "trusted": true
      },
      "outputs": [],
      "source": [
        "train_x = train.drop(columns=['ID', 'TARGET']) \n",
        "train_y = train['TARGET']\n",
        "\n",
        "test_x = test.drop(columns=['ID'])"
      ]
    },
    {
      "cell_type": "markdown",
      "metadata": {
        "pbl_cell_type": "markdown",
        "step_id": 5547,
        "step_number": 5,
        "trusted": true
      },
      "source": [
        "## 데이터 전처리 2 : 범주형 변수 수치화 \n",
        "LabelEncoder를 통해 범주형 변수 수치화를 진행해 봅시다  "
      ]
    },
    {
      "cell_type": "code",
      "execution_count": null,
      "metadata": {
        "pbl_cell_type": "code",
        "step_id": 5547,
        "step_number": 5,
        "trusted": true
      },
      "outputs": [],
      "source": [
        "from sklearn.preprocessing import LabelEncoder\n",
        "\n",
        "categorical_features = ['성별', '수입 유형', '최종 학력', '결혼 여부', '주거 형태', '직업', '산업군']\n",
        "\n",
        "for i in categorical_features:\n",
        "    le = LabelEncoder()\n",
        "    le=le.fit(train_x[i]) \n",
        "    train_x[i]=le.transform(train_x[i])\n",
        "    \n",
        "    for case in np.unique(test_x[i]):\n",
        "        if case not in le.classes_: \n",
        "            le.classes_ = np.append(le.classes_, case) \n",
        "    test_x[i]=le.transform(test_x[i])\n",
        "    \n",
        "display(train_x.head(3))\n",
        "display(test_x.head(3))"
      ]
    },
    {
      "cell_type": "markdown",
      "metadata": {
        "pbl_cell_type": "markdown",
        "step_id": 5548,
        "step_number": 6,
        "trusted": true
      },
      "source": [
        "## 오버샘플링 1 : RandomOverSampler\n",
        "RandomOverSampler를 통해 Random 오버샘플링을 진행해 봅시다 "
      ]
    },
    {
      "cell_type": "code",
      "execution_count": 10,
      "metadata": {
        "pbl_cell_type": "code",
        "step_id": 5548,
        "step_number": 6,
        "trusted": true
      },
      "outputs": [],
      "source": [
        "from imblearn.over_sampling import RandomOverSampler\n",
        "\n",
        "oversampler = RandomOverSampler(random_state=seed_number)\n",
        "train_x_oversampled, train_y_oversampled = oversampler.fit_resample(train_x, train_y)"
      ]
    },
    {
      "cell_type": "markdown",
      "metadata": {
        "pbl_cell_type": "markdown",
        "step_id": 5549,
        "step_number": 7,
        "trusted": true
      },
      "source": [
        "## 오버샘플링 2 : 결과 확인\n",
        "오버샘플링의 결과를 확인해 봅시다  "
      ]
    },
    {
      "cell_type": "code",
      "execution_count": 11,
      "metadata": {
        "pbl_cell_type": "code",
        "step_id": 5549,
        "step_number": 7,
        "tags": [],
        "trusted": true
      },
      "outputs": [
        {
          "data": {
            "image/png": "[encoded data removed]",
            "text/plain": [
              "<Figure size 400x400 with 1 Axes>"
            ]
          },
          "metadata": {},
          "output_type": "display_data"
        }
      ],
      "source": [
        "plt.subplots(figsize = (4,4))\n",
        "\n",
        "sns.histplot(train_y_oversampled)\n",
        "plt.title('신용카드 연체 여부 비율')\n",
        "plt.show()"
      ]
    },
    {
      "cell_type": "markdown",
      "metadata": {
        "pbl_cell_type": "markdown",
        "step_id": 5550,
        "step_number": 8,
        "trusted": true
      },
      "source": [
        "## 모델 선정 및 학습  \n",
        "신용카드 연체 탐지를 위한 AI 모델을 정하고 학습시켜 봅시다  "
      ]
    },
    {
      "cell_type": "code",
      "execution_count": null,
      "metadata": {
        "pbl_cell_type": "code",
        "step_id": 5550,
        "step_number": 8,
        "trusted": true
      },
      "outputs": [],
      "source": [
        "from sklearn.ensemble import RandomForestClassifier\n",
        "\n",
        "model = RandomForestClassifier(random_state=seed_number)\n",
        "model.fit(train_x_oversampled, train_y_oversampled)"
      ]
    },
    {
      "cell_type": "markdown",
      "metadata": {
        "pbl_cell_type": "markdown",
        "step_id": 5551,
        "step_number": 9,
        "trusted": true
      },
      "source": [
        "## 예측 수행\n",
        ".predict_proba()를 통해 모델의 예측한 신용카드 연체 확률을 구해봅시다 "
      ]
    },
    {
      "cell_type": "code",
      "execution_count": null,
      "metadata": {
        "pbl_cell_type": "code",
        "step_id": 5551,
        "step_number": 9,
        "trusted": true
      },
      "outputs": [],
      "source": [
        "pred_probability = model.predict_proba(test_x)\n",
        "\n",
        "display(model.classes_)\n",
        "display(pred_probability)"
      ]
    },
    {
      "cell_type": "markdown",
      "metadata": {
        "pbl_cell_type": "markdown",
        "step_id": 5552,
        "step_number": 10,
        "trusted": true
      },
      "source": [
        "## 제출양식에 예측결과 입력\n",
        "모델이 예측한 신용카드 연체 확률을 제출양식에 입력해 봅시다  "
      ]
    },
    {
      "cell_type": "code",
      "execution_count": null,
      "metadata": {
        "pbl_cell_type": "code",
        "step_id": 5552,
        "step_number": 10,
        "tags": [],
        "trusted": true
      },
      "outputs": [],
      "source": [
        "sample_submission = pd.read_csv('sample_submission.csv')\n",
        "\n",
        "baseline_submission = sample_submission.copy()\n",
        "baseline_submission['TARGET'] = pred_probability[:,1]\n",
        "baseline_submission"
      ]
    },
    {
      "cell_type": "markdown",
      "metadata": {
        "pbl_cell_type": "markdown",
        "step_id": 5553,
        "step_number": 11,
        "tags": [],
        "trusted": true
      },
      "source": [
        "## 예측결과 저장\n",
        "값이 기입된 제출물을 저장해 봅시다  "
      ]
    },
    {
      "cell_type": "code",
      "execution_count": 17,
      "metadata": {
        "pbl_cell_type": "code",
        "step_id": 5553,
        "step_number": 11,
        "trusted": true
      },
      "outputs": [],
      "source": [
        "baseline_submission.to_csv('baseline_submission.csv', index=False)"
      ]
    }
  ],
  "metadata": {
    "kernelspec": {
      "display_name": "Python (Pyodide)",
      "language": "python",
      "name": "python"
    },
    "language_info": {
      "codemirror_mode": {
        "name": "python",
        "version": 3
      },
      "file_extension": ".py",
      "mimetype": "text/x-python",
      "name": "python",
      "nbconvert_exporter": "python",
      "pygments_lexer": "ipython3",
      "version": "3.8"
    }
  },
  "nbformat": 4,
  "nbformat_minor": 4
}
